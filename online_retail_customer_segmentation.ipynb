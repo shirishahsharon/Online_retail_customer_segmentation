{
  "cells": [
    {
      "cell_type": "markdown",
      "metadata": {
        "id": "view-in-github",
        "colab_type": "text"
      },
      "source": [
        "<a href=\"https://colab.research.google.com/github/shirishahsharon/Online_retail_customer_segmentation/blob/main/online_retail_customer_segmentation.ipynb\" target=\"_parent\"><img src=\"https://colab.research.google.com/assets/colab-badge.svg\" alt=\"Open In Colab\"/></a>"
      ]
    },
    {
      "cell_type": "markdown",
      "id": "687f6226",
      "metadata": {
        "papermill": {
          "duration": 0.033946,
          "end_time": "2024-10-07T19:39:47.606959",
          "exception": false,
          "start_time": "2024-10-07T19:39:47.573013",
          "status": "completed"
        },
        "tags": [],
        "id": "687f6226"
      },
      "source": [
        "# Problem Statement :\n",
        "An online retail store is trying to understand the various customer purchase patterns for their\n",
        "firm, required to give enough evidence based insights to provide the same.\n"
      ]
    },
    {
      "cell_type": "markdown",
      "id": "d83ac285",
      "metadata": {
        "papermill": {
          "duration": 0.033173,
          "end_time": "2024-10-07T19:39:47.674802",
          "exception": false,
          "start_time": "2024-10-07T19:39:47.641629",
          "status": "completed"
        },
        "tags": [],
        "id": "d83ac285"
      },
      "source": [
        "# Dataset Information:"
      ]
    },
    {
      "cell_type": "markdown",
      "id": "be60c182",
      "metadata": {
        "papermill": {
          "duration": 0.033056,
          "end_time": "2024-10-07T19:39:47.741170",
          "exception": false,
          "start_time": "2024-10-07T19:39:47.708114",
          "status": "completed"
        },
        "tags": [],
        "id": "be60c182"
      },
      "source": [
        "\n",
        "The online_retail.csv contains 541909 rows and 8 columns.\n",
        "# Feature Name   :   Description\n",
        "1. Invoice :         Invoice number\n",
        "2. StockCode:        Product ID\n",
        "3. Description:      Product Description\n",
        "4. Quantity:         Quantity of the product\n",
        "5. InvoiceDate:      Date of the invoice\n",
        "6. Price:            Price of the product per unit\n",
        "7. CustomerID:       Customer ID\n",
        "8. Country:          Region of Purchase\n"
      ]
    },
    {
      "cell_type": "markdown",
      "id": "6de3e707",
      "metadata": {
        "papermill": {
          "duration": 0.032983,
          "end_time": "2024-10-07T19:39:47.807673",
          "exception": false,
          "start_time": "2024-10-07T19:39:47.774690",
          "status": "completed"
        },
        "tags": [],
        "id": "6de3e707"
      },
      "source": [
        "# Project Objective:\n",
        "Using the above data, finding useful insights about the customer purchasing history\n",
        "that can be an added advantage for the online retailer.\n",
        "Segment the customers based on their purchasing behavior.\n"
      ]
    },
    {
      "cell_type": "markdown",
      "id": "14828678",
      "metadata": {
        "papermill": {
          "duration": 0.033803,
          "end_time": "2024-10-07T19:39:47.933795",
          "exception": false,
          "start_time": "2024-10-07T19:39:47.899992",
          "status": "completed"
        },
        "tags": [],
        "id": "14828678"
      },
      "source": [
        "# Exploratary Data Analysis"
      ]
    },
    {
      "cell_type": "markdown",
      "id": "8c0f1a54",
      "metadata": {
        "papermill": {
          "duration": 0.033253,
          "end_time": "2024-10-07T19:39:48.001122",
          "exception": false,
          "start_time": "2024-10-07T19:39:47.967869",
          "status": "completed"
        },
        "tags": [],
        "id": "8c0f1a54"
      },
      "source": [
        "1. Pre-processing of the data included the following steps:\n",
        "2. Loading the Online_retail dataset.\n",
        "3. Inspect for missing data and take necessary action as per the following:\n",
        "a. Remove the rows with missing value if their number is insignificant\n",
        "b. Replace the missing values with the mean or median if the feature is numeric\n",
        "c. Replace the missing values with the mode if the feature is object type\n",
        "   But in this case we have 136,534 total missing values are there in the dataset, this dataset has total 541909 records.\n",
        "   it's a big dataset if we remove the missing values from the dataset also still we can have enough records of data for build a model, so I am going to drop that missing values from the dataset for future analysis.\n",
        "4. Convert the feature InvoiceDate  into datetime format.\n",
        "5. Identifying Correlation between features.\n",
        "6. Box Plotting the data using with matplotlib.pyplot and seaborn for checking outliers.\n",
        "7. Creating Revenue feature from Quantity and UnitPrice for checking total.\n",
        "8. Identifying which country has more sales.\n",
        "9. Identifying top selling products in the country.\n",
        "10. Identifying which month, year, day and hour has more sales.\n",
        "11. Identifying cancelled transactions and drop them.\n",
        "12. Split the InvoiceDate feature into month, day, week and year.\n",
        "13. Scale the data.\n",
        "14. Using the train_test_split from sklearn.model_selection module, extract the X_train, X_test,\n",
        "    y_train, y_test for the various models with data split of 80:20 and random_state=0\n",
        ""
      ]
    },
    {
      "cell_type": "markdown",
      "id": "5f6cc824",
      "metadata": {
        "papermill": {
          "duration": 0.033791,
          "end_time": "2024-10-07T19:39:48.068137",
          "exception": false,
          "start_time": "2024-10-07T19:39:48.034346",
          "status": "completed"
        },
        "tags": [],
        "id": "5f6cc824"
      },
      "source": [
        "# Assumptions:"
      ]
    },
    {
      "cell_type": "markdown",
      "id": "2919a263",
      "metadata": {
        "papermill": {
          "duration": 0.033749,
          "end_time": "2024-10-07T19:39:48.136832",
          "exception": false,
          "start_time": "2024-10-07T19:39:48.103083",
          "status": "completed"
        },
        "tags": [],
        "id": "2919a263"
      },
      "source": [
        "There is no significant correlation between features in the data.\n",
        "There are outliers in Quantity and Unitprice columns so I removed for future calculations.\n",
        "From country feature I found UnitedKingdom has majority(90%) of sales, so I extracted where country is UnitedKingdom and perform future calculations.\n"
      ]
    },
    {
      "cell_type": "markdown",
      "id": "a8640708",
      "metadata": {
        "papermill": {
          "duration": 0.033249,
          "end_time": "2024-10-07T19:39:48.205076",
          "exception": false,
          "start_time": "2024-10-07T19:39:48.171827",
          "status": "completed"
        },
        "tags": [],
        "id": "a8640708"
      },
      "source": [
        "# Choosing the Algorithm for the Project:"
      ]
    },
    {
      "cell_type": "markdown",
      "id": "a180d096",
      "metadata": {
        "papermill": {
          "duration": 0.033416,
          "end_time": "2024-10-07T19:39:48.272179",
          "exception": false,
          "start_time": "2024-10-07T19:39:48.238763",
          "status": "completed"
        },
        "tags": [],
        "id": "a180d096"
      },
      "source": [
        " This data has no dependent feature, so I did use clustering technique for Segment the customers based on their purchasing behavior with KMeans clustering:\n",
        " k-means clustering is a method of vector quantization, originally from signal processing, that aims to partition on observations into k clusters in which each observation belongs to the cluster with the nearest mean (cluster centers or cluster centroid), serving as a prototype of the cluster.\n",
        "after getting clusters it's a classification problem, so I built  LogisticRegression, DecisionTreeClassifier and XGBClassifier for better accuracy, these models are giving better accuracy.\n"
      ]
    },
    {
      "cell_type": "markdown",
      "id": "83e204ab",
      "metadata": {
        "papermill": {
          "duration": 0.033726,
          "end_time": "2024-10-07T19:39:48.341427",
          "exception": false,
          "start_time": "2024-10-07T19:39:48.307701",
          "status": "completed"
        },
        "tags": [],
        "id": "83e204ab"
      },
      "source": [
        "# Conclusion:"
      ]
    },
    {
      "cell_type": "markdown",
      "id": "c16dbb59",
      "metadata": {
        "papermill": {
          "duration": 0.033335,
          "end_time": "2024-10-07T19:39:48.409180",
          "exception": false,
          "start_time": "2024-10-07T19:39:48.375845",
          "status": "completed"
        },
        "tags": [],
        "id": "c16dbb59"
      },
      "source": [
        "Logistic regression, DecisionTree classifier, RandomForestClassifier and XGBoost classifiers gave more than 98% accuracy."
      ]
    },
    {
      "cell_type": "markdown",
      "id": "66c41ec3",
      "metadata": {
        "papermill": {
          "duration": 0.033177,
          "end_time": "2024-10-07T19:39:48.476075",
          "exception": false,
          "start_time": "2024-10-07T19:39:48.442898",
          "status": "completed"
        },
        "tags": [],
        "id": "66c41ec3"
      },
      "source": [
        "# Importing libraries:"
      ]
    },
    {
      "cell_type": "code",
      "execution_count": null,
      "id": "1035d696",
      "metadata": {
        "execution": {
          "iopub.execute_input": "2024-10-07T19:39:48.544879Z",
          "iopub.status.busy": "2024-10-07T19:39:48.544495Z",
          "iopub.status.idle": "2024-10-07T19:39:51.120138Z",
          "shell.execute_reply": "2024-10-07T19:39:51.119137Z"
        },
        "papermill": {
          "duration": 2.61321,
          "end_time": "2024-10-07T19:39:51.122891",
          "exception": false,
          "start_time": "2024-10-07T19:39:48.509681",
          "status": "completed"
        },
        "tags": [],
        "id": "1035d696"
      },
      "outputs": [],
      "source": [
        "\n",
        "import pandas as pd\n",
        "import matplotlib.pyplot as plt\n",
        "import seaborn as sns\n",
        "import warnings\n",
        "warnings.filterwarnings('ignore')"
      ]
    },
    {
      "cell_type": "markdown",
      "id": "836526fa",
      "metadata": {
        "papermill": {
          "duration": 0.033892,
          "end_time": "2024-10-07T19:39:51.190531",
          "exception": false,
          "start_time": "2024-10-07T19:39:51.156639",
          "status": "completed"
        },
        "tags": [],
        "id": "836526fa"
      },
      "source": [
        "# Importing dataset:"
      ]
    },
    {
      "cell_type": "code",
      "execution_count": null,
      "id": "443f9cec",
      "metadata": {
        "execution": {
          "iopub.execute_input": "2024-10-07T19:39:51.259141Z",
          "iopub.status.busy": "2024-10-07T19:39:51.258597Z",
          "iopub.status.idle": "2024-10-07T19:39:53.152307Z",
          "shell.execute_reply": "2024-10-07T19:39:53.151152Z"
        },
        "papermill": {
          "duration": 1.931196,
          "end_time": "2024-10-07T19:39:53.155319",
          "exception": false,
          "start_time": "2024-10-07T19:39:51.224123",
          "status": "completed"
        },
        "tags": [],
        "id": "443f9cec",
        "outputId": "1aa30ee0-4eda-4fa6-e158-8bd1244f52bc"
      },
      "outputs": [
        {
          "data": {
            "text/html": [
              "<div>\n",
              "<style scoped>\n",
              "    .dataframe tbody tr th:only-of-type {\n",
              "        vertical-align: middle;\n",
              "    }\n",
              "\n",
              "    .dataframe tbody tr th {\n",
              "        vertical-align: top;\n",
              "    }\n",
              "\n",
              "    .dataframe thead th {\n",
              "        text-align: right;\n",
              "    }\n",
              "</style>\n",
              "<table border=\"1\" class=\"dataframe\">\n",
              "  <thead>\n",
              "    <tr style=\"text-align: right;\">\n",
              "      <th></th>\n",
              "      <th>InvoiceNo</th>\n",
              "      <th>StockCode</th>\n",
              "      <th>Description</th>\n",
              "      <th>Quantity</th>\n",
              "      <th>InvoiceDate</th>\n",
              "      <th>UnitPrice</th>\n",
              "      <th>CustomerID</th>\n",
              "      <th>Country</th>\n",
              "    </tr>\n",
              "  </thead>\n",
              "  <tbody>\n",
              "    <tr>\n",
              "      <th>0</th>\n",
              "      <td>536365</td>\n",
              "      <td>85123A</td>\n",
              "      <td>WHITE HANGING HEART T-LIGHT HOLDER</td>\n",
              "      <td>6</td>\n",
              "      <td>12/1/2010 8:26</td>\n",
              "      <td>2.55</td>\n",
              "      <td>17850.0</td>\n",
              "      <td>United Kingdom</td>\n",
              "    </tr>\n",
              "    <tr>\n",
              "      <th>1</th>\n",
              "      <td>536365</td>\n",
              "      <td>71053</td>\n",
              "      <td>WHITE METAL LANTERN</td>\n",
              "      <td>6</td>\n",
              "      <td>12/1/2010 8:26</td>\n",
              "      <td>3.39</td>\n",
              "      <td>17850.0</td>\n",
              "      <td>United Kingdom</td>\n",
              "    </tr>\n",
              "    <tr>\n",
              "      <th>2</th>\n",
              "      <td>536365</td>\n",
              "      <td>84406B</td>\n",
              "      <td>CREAM CUPID HEARTS COAT HANGER</td>\n",
              "      <td>8</td>\n",
              "      <td>12/1/2010 8:26</td>\n",
              "      <td>2.75</td>\n",
              "      <td>17850.0</td>\n",
              "      <td>United Kingdom</td>\n",
              "    </tr>\n",
              "    <tr>\n",
              "      <th>3</th>\n",
              "      <td>536365</td>\n",
              "      <td>84029G</td>\n",
              "      <td>KNITTED UNION FLAG HOT WATER BOTTLE</td>\n",
              "      <td>6</td>\n",
              "      <td>12/1/2010 8:26</td>\n",
              "      <td>3.39</td>\n",
              "      <td>17850.0</td>\n",
              "      <td>United Kingdom</td>\n",
              "    </tr>\n",
              "    <tr>\n",
              "      <th>4</th>\n",
              "      <td>536365</td>\n",
              "      <td>84029E</td>\n",
              "      <td>RED WOOLLY HOTTIE WHITE HEART.</td>\n",
              "      <td>6</td>\n",
              "      <td>12/1/2010 8:26</td>\n",
              "      <td>3.39</td>\n",
              "      <td>17850.0</td>\n",
              "      <td>United Kingdom</td>\n",
              "    </tr>\n",
              "  </tbody>\n",
              "</table>\n",
              "</div>"
            ],
            "text/plain": [
              "  InvoiceNo StockCode                          Description  Quantity  \\\n",
              "0    536365    85123A   WHITE HANGING HEART T-LIGHT HOLDER         6   \n",
              "1    536365     71053                  WHITE METAL LANTERN         6   \n",
              "2    536365    84406B       CREAM CUPID HEARTS COAT HANGER         8   \n",
              "3    536365    84029G  KNITTED UNION FLAG HOT WATER BOTTLE         6   \n",
              "4    536365    84029E       RED WOOLLY HOTTIE WHITE HEART.         6   \n",
              "\n",
              "      InvoiceDate  UnitPrice  CustomerID         Country  \n",
              "0  12/1/2010 8:26       2.55     17850.0  United Kingdom  \n",
              "1  12/1/2010 8:26       3.39     17850.0  United Kingdom  \n",
              "2  12/1/2010 8:26       2.75     17850.0  United Kingdom  \n",
              "3  12/1/2010 8:26       3.39     17850.0  United Kingdom  \n",
              "4  12/1/2010 8:26       3.39     17850.0  United Kingdom  "
            ]
          },
          "execution_count": 2,
          "metadata": {},
          "output_type": "execute_result"
        }
      ],
      "source": [
        "df = pd.read_csv(r'/kaggle/input/online-retail-data/OnlineRetail.csv',encoding = 'unicode_escape')\n",
        "df.head()"
      ]
    },
    {
      "cell_type": "code",
      "execution_count": null,
      "id": "54694321",
      "metadata": {
        "execution": {
          "iopub.execute_input": "2024-10-07T19:39:53.226573Z",
          "iopub.status.busy": "2024-10-07T19:39:53.225631Z",
          "iopub.status.idle": "2024-10-07T19:39:53.232887Z",
          "shell.execute_reply": "2024-10-07T19:39:53.231762Z"
        },
        "papermill": {
          "duration": 0.046018,
          "end_time": "2024-10-07T19:39:53.235276",
          "exception": false,
          "start_time": "2024-10-07T19:39:53.189258",
          "status": "completed"
        },
        "tags": [],
        "id": "54694321",
        "outputId": "918569fd-01e6-4583-f1e8-7adcdc96bed9"
      },
      "outputs": [
        {
          "data": {
            "text/plain": [
              "(541909, 8)"
            ]
          },
          "execution_count": 3,
          "metadata": {},
          "output_type": "execute_result"
        }
      ],
      "source": [
        "# shape of the data:\n",
        "df.shape"
      ]
    },
    {
      "cell_type": "markdown",
      "id": "c427db4e",
      "metadata": {
        "papermill": {
          "duration": 0.034479,
          "end_time": "2024-10-07T19:39:53.303976",
          "exception": false,
          "start_time": "2024-10-07T19:39:53.269497",
          "status": "completed"
        },
        "tags": [],
        "id": "c427db4e"
      },
      "source": [
        "# checking null values in the dataset:"
      ]
    },
    {
      "cell_type": "code",
      "execution_count": null,
      "id": "03bae683",
      "metadata": {
        "execution": {
          "iopub.execute_input": "2024-10-07T19:39:53.374558Z",
          "iopub.status.busy": "2024-10-07T19:39:53.374132Z",
          "iopub.status.idle": "2024-10-07T19:39:53.657802Z",
          "shell.execute_reply": "2024-10-07T19:39:53.656641Z"
        },
        "papermill": {
          "duration": 0.321681,
          "end_time": "2024-10-07T19:39:53.660264",
          "exception": false,
          "start_time": "2024-10-07T19:39:53.338583",
          "status": "completed"
        },
        "tags": [],
        "id": "03bae683",
        "outputId": "cc254578-4112-4802-b77e-10530bf0ca65"
      },
      "outputs": [
        {
          "data": {
            "text/plain": [
              "InvoiceNo           0\n",
              "StockCode           0\n",
              "Description      1454\n",
              "Quantity            0\n",
              "InvoiceDate         0\n",
              "UnitPrice           0\n",
              "CustomerID     135080\n",
              "Country             0\n",
              "dtype: int64"
            ]
          },
          "execution_count": 4,
          "metadata": {},
          "output_type": "execute_result"
        }
      ],
      "source": [
        "df.isnull().sum()"
      ]
    },
    {
      "cell_type": "markdown",
      "id": "7798858f",
      "metadata": {
        "papermill": {
          "duration": 0.0344,
          "end_time": "2024-10-07T19:39:53.729240",
          "exception": false,
          "start_time": "2024-10-07T19:39:53.694840",
          "status": "completed"
        },
        "tags": [],
        "id": "7798858f"
      },
      "source": [
        "there are null values presented in Description and CustomerID columns,\n",
        "online_retail is large dataset lets drop the null values for future calculations."
      ]
    },
    {
      "cell_type": "markdown",
      "id": "be85dbcf",
      "metadata": {
        "papermill": {
          "duration": 0.034113,
          "end_time": "2024-10-07T19:39:53.797619",
          "exception": false,
          "start_time": "2024-10-07T19:39:53.763506",
          "status": "completed"
        },
        "tags": [],
        "id": "be85dbcf"
      },
      "source": [
        "# Dropping null values:"
      ]
    },
    {
      "cell_type": "code",
      "execution_count": null,
      "id": "012bdd91",
      "metadata": {
        "execution": {
          "iopub.execute_input": "2024-10-07T19:39:53.868294Z",
          "iopub.status.busy": "2024-10-07T19:39:53.867888Z",
          "iopub.status.idle": "2024-10-07T19:39:54.200217Z",
          "shell.execute_reply": "2024-10-07T19:39:54.199085Z"
        },
        "papermill": {
          "duration": 0.370988,
          "end_time": "2024-10-07T19:39:54.203006",
          "exception": false,
          "start_time": "2024-10-07T19:39:53.832018",
          "status": "completed"
        },
        "tags": [],
        "id": "012bdd91"
      },
      "outputs": [],
      "source": [
        "# dropping null values:\n",
        "df.dropna(inplace=True)"
      ]
    },
    {
      "cell_type": "markdown",
      "id": "42a514b4",
      "metadata": {
        "papermill": {
          "duration": 0.034178,
          "end_time": "2024-10-07T19:39:54.273147",
          "exception": false,
          "start_time": "2024-10-07T19:39:54.238969",
          "status": "completed"
        },
        "tags": [],
        "id": "42a514b4"
      },
      "source": [
        "# Information of the data:"
      ]
    },
    {
      "cell_type": "code",
      "execution_count": null,
      "id": "909b319c",
      "metadata": {
        "execution": {
          "iopub.execute_input": "2024-10-07T19:39:54.344573Z",
          "iopub.status.busy": "2024-10-07T19:39:54.344143Z",
          "iopub.status.idle": "2024-10-07T19:39:54.579698Z",
          "shell.execute_reply": "2024-10-07T19:39:54.578126Z"
        },
        "papermill": {
          "duration": 0.27475,
          "end_time": "2024-10-07T19:39:54.582396",
          "exception": false,
          "start_time": "2024-10-07T19:39:54.307646",
          "status": "completed"
        },
        "tags": [],
        "id": "909b319c",
        "outputId": "e621a15e-c2fe-49b2-b17d-473f69f5ce1e"
      },
      "outputs": [
        {
          "name": "stdout",
          "output_type": "stream",
          "text": [
            "<class 'pandas.core.frame.DataFrame'>\n",
            "Index: 406829 entries, 0 to 541908\n",
            "Data columns (total 8 columns):\n",
            " #   Column       Non-Null Count   Dtype  \n",
            "---  ------       --------------   -----  \n",
            " 0   InvoiceNo    406829 non-null  object \n",
            " 1   StockCode    406829 non-null  object \n",
            " 2   Description  406829 non-null  object \n",
            " 3   Quantity     406829 non-null  int64  \n",
            " 4   InvoiceDate  406829 non-null  object \n",
            " 5   UnitPrice    406829 non-null  float64\n",
            " 6   CustomerID   406829 non-null  float64\n",
            " 7   Country      406829 non-null  object \n",
            "dtypes: float64(2), int64(1), object(5)\n",
            "memory usage: 27.9+ MB\n"
          ]
        }
      ],
      "source": [
        "# checking information about the dataset\n",
        "df.info()"
      ]
    },
    {
      "cell_type": "markdown",
      "id": "da153836",
      "metadata": {
        "papermill": {
          "duration": 0.034635,
          "end_time": "2024-10-07T19:39:54.651688",
          "exception": false,
          "start_time": "2024-10-07T19:39:54.617053",
          "status": "completed"
        },
        "tags": [],
        "id": "da153836"
      },
      "source": [
        "# Changing InvoiceDate to datatime:"
      ]
    },
    {
      "cell_type": "code",
      "execution_count": null,
      "id": "c293e945",
      "metadata": {
        "execution": {
          "iopub.execute_input": "2024-10-07T19:39:54.722586Z",
          "iopub.status.busy": "2024-10-07T19:39:54.721545Z",
          "iopub.status.idle": "2024-10-07T19:39:54.938975Z",
          "shell.execute_reply": "2024-10-07T19:39:54.937844Z"
        },
        "papermill": {
          "duration": 0.255829,
          "end_time": "2024-10-07T19:39:54.941801",
          "exception": false,
          "start_time": "2024-10-07T19:39:54.685972",
          "status": "completed"
        },
        "tags": [],
        "id": "c293e945"
      },
      "outputs": [],
      "source": [
        "# InvoiceDate is in object format, changing object to datetime format\n",
        "df['InvoiceDate']=pd.to_datetime(df['InvoiceDate'])"
      ]
    },
    {
      "cell_type": "code",
      "execution_count": null,
      "id": "717425be",
      "metadata": {
        "execution": {
          "iopub.execute_input": "2024-10-07T19:39:55.012328Z",
          "iopub.status.busy": "2024-10-07T19:39:55.011647Z",
          "iopub.status.idle": "2024-10-07T19:39:55.016452Z",
          "shell.execute_reply": "2024-10-07T19:39:55.015432Z"
        },
        "papermill": {
          "duration": 0.042897,
          "end_time": "2024-10-07T19:39:55.018969",
          "exception": false,
          "start_time": "2024-10-07T19:39:54.976072",
          "status": "completed"
        },
        "tags": [],
        "id": "717425be"
      },
      "outputs": [],
      "source": [
        "#df['CustomerID']=df['CustomerID'].astype(str)"
      ]
    },
    {
      "cell_type": "code",
      "execution_count": null,
      "id": "ede4ce17",
      "metadata": {
        "execution": {
          "iopub.execute_input": "2024-10-07T19:39:55.089820Z",
          "iopub.status.busy": "2024-10-07T19:39:55.089044Z",
          "iopub.status.idle": "2024-10-07T19:39:55.270734Z",
          "shell.execute_reply": "2024-10-07T19:39:55.269295Z"
        },
        "papermill": {
          "duration": 0.219985,
          "end_time": "2024-10-07T19:39:55.273539",
          "exception": false,
          "start_time": "2024-10-07T19:39:55.053554",
          "status": "completed"
        },
        "tags": [],
        "id": "ede4ce17",
        "outputId": "ba1ed231-3726-448c-9832-e914dcad6f06"
      },
      "outputs": [
        {
          "name": "stdout",
          "output_type": "stream",
          "text": [
            "<class 'pandas.core.frame.DataFrame'>\n",
            "Index: 406829 entries, 0 to 541908\n",
            "Data columns (total 8 columns):\n",
            " #   Column       Non-Null Count   Dtype         \n",
            "---  ------       --------------   -----         \n",
            " 0   InvoiceNo    406829 non-null  object        \n",
            " 1   StockCode    406829 non-null  object        \n",
            " 2   Description  406829 non-null  object        \n",
            " 3   Quantity     406829 non-null  int64         \n",
            " 4   InvoiceDate  406829 non-null  datetime64[ns]\n",
            " 5   UnitPrice    406829 non-null  float64       \n",
            " 6   CustomerID   406829 non-null  float64       \n",
            " 7   Country      406829 non-null  object        \n",
            "dtypes: datetime64[ns](1), float64(2), int64(1), object(4)\n",
            "memory usage: 27.9+ MB\n"
          ]
        }
      ],
      "source": [
        "df.info()"
      ]
    },
    {
      "cell_type": "markdown",
      "id": "67bcb7e2",
      "metadata": {
        "papermill": {
          "duration": 0.034701,
          "end_time": "2024-10-07T19:39:55.343528",
          "exception": false,
          "start_time": "2024-10-07T19:39:55.308827",
          "status": "completed"
        },
        "tags": [],
        "id": "67bcb7e2"
      },
      "source": [
        "# Description of the data:"
      ]
    },
    {
      "cell_type": "code",
      "execution_count": null,
      "id": "ba02003d",
      "metadata": {
        "execution": {
          "iopub.execute_input": "2024-10-07T19:39:55.416916Z",
          "iopub.status.busy": "2024-10-07T19:39:55.416489Z",
          "iopub.status.idle": "2024-10-07T19:39:55.497779Z",
          "shell.execute_reply": "2024-10-07T19:39:55.496460Z"
        },
        "papermill": {
          "duration": 0.121646,
          "end_time": "2024-10-07T19:39:55.500459",
          "exception": false,
          "start_time": "2024-10-07T19:39:55.378813",
          "status": "completed"
        },
        "tags": [],
        "id": "ba02003d",
        "outputId": "d6dadfbf-0e9e-4507-85b0-e3b4e6538709"
      },
      "outputs": [
        {
          "data": {
            "text/html": [
              "<div>\n",
              "<style scoped>\n",
              "    .dataframe tbody tr th:only-of-type {\n",
              "        vertical-align: middle;\n",
              "    }\n",
              "\n",
              "    .dataframe tbody tr th {\n",
              "        vertical-align: top;\n",
              "    }\n",
              "\n",
              "    .dataframe thead th {\n",
              "        text-align: right;\n",
              "    }\n",
              "</style>\n",
              "<table border=\"1\" class=\"dataframe\">\n",
              "  <thead>\n",
              "    <tr style=\"text-align: right;\">\n",
              "      <th></th>\n",
              "      <th>Quantity</th>\n",
              "      <th>InvoiceDate</th>\n",
              "      <th>UnitPrice</th>\n",
              "      <th>CustomerID</th>\n",
              "    </tr>\n",
              "  </thead>\n",
              "  <tbody>\n",
              "    <tr>\n",
              "      <th>count</th>\n",
              "      <td>406829.000000</td>\n",
              "      <td>406829</td>\n",
              "      <td>406829.000000</td>\n",
              "      <td>406829.000000</td>\n",
              "    </tr>\n",
              "    <tr>\n",
              "      <th>mean</th>\n",
              "      <td>12.061303</td>\n",
              "      <td>2011-07-10 16:30:57.879207424</td>\n",
              "      <td>3.460471</td>\n",
              "      <td>15287.690570</td>\n",
              "    </tr>\n",
              "    <tr>\n",
              "      <th>min</th>\n",
              "      <td>-80995.000000</td>\n",
              "      <td>2010-12-01 08:26:00</td>\n",
              "      <td>0.000000</td>\n",
              "      <td>12346.000000</td>\n",
              "    </tr>\n",
              "    <tr>\n",
              "      <th>25%</th>\n",
              "      <td>2.000000</td>\n",
              "      <td>2011-04-06 15:02:00</td>\n",
              "      <td>1.250000</td>\n",
              "      <td>13953.000000</td>\n",
              "    </tr>\n",
              "    <tr>\n",
              "      <th>50%</th>\n",
              "      <td>5.000000</td>\n",
              "      <td>2011-07-31 11:48:00</td>\n",
              "      <td>1.950000</td>\n",
              "      <td>15152.000000</td>\n",
              "    </tr>\n",
              "    <tr>\n",
              "      <th>75%</th>\n",
              "      <td>12.000000</td>\n",
              "      <td>2011-10-20 13:06:00</td>\n",
              "      <td>3.750000</td>\n",
              "      <td>16791.000000</td>\n",
              "    </tr>\n",
              "    <tr>\n",
              "      <th>max</th>\n",
              "      <td>80995.000000</td>\n",
              "      <td>2011-12-09 12:50:00</td>\n",
              "      <td>38970.000000</td>\n",
              "      <td>18287.000000</td>\n",
              "    </tr>\n",
              "    <tr>\n",
              "      <th>std</th>\n",
              "      <td>248.693370</td>\n",
              "      <td>NaN</td>\n",
              "      <td>69.315162</td>\n",
              "      <td>1713.600303</td>\n",
              "    </tr>\n",
              "  </tbody>\n",
              "</table>\n",
              "</div>"
            ],
            "text/plain": [
              "            Quantity                    InvoiceDate      UnitPrice  \\\n",
              "count  406829.000000                         406829  406829.000000   \n",
              "mean       12.061303  2011-07-10 16:30:57.879207424       3.460471   \n",
              "min    -80995.000000            2010-12-01 08:26:00       0.000000   \n",
              "25%         2.000000            2011-04-06 15:02:00       1.250000   \n",
              "50%         5.000000            2011-07-31 11:48:00       1.950000   \n",
              "75%        12.000000            2011-10-20 13:06:00       3.750000   \n",
              "max     80995.000000            2011-12-09 12:50:00   38970.000000   \n",
              "std       248.693370                            NaN      69.315162   \n",
              "\n",
              "          CustomerID  \n",
              "count  406829.000000  \n",
              "mean    15287.690570  \n",
              "min     12346.000000  \n",
              "25%     13953.000000  \n",
              "50%     15152.000000  \n",
              "75%     16791.000000  \n",
              "max     18287.000000  \n",
              "std      1713.600303  "
            ]
          },
          "execution_count": 10,
          "metadata": {},
          "output_type": "execute_result"
        }
      ],
      "source": [
        "# checking statistical insights\n",
        "df.describe()"
      ]
    },
    {
      "cell_type": "markdown",
      "id": "ae897211",
      "metadata": {
        "papermill": {
          "duration": 0.034761,
          "end_time": "2024-10-07T19:39:55.570211",
          "exception": false,
          "start_time": "2024-10-07T19:39:55.535450",
          "status": "completed"
        },
        "tags": [],
        "id": "ae897211"
      },
      "source": [
        "# Dropping duplicates:"
      ]
    },
    {
      "cell_type": "code",
      "execution_count": null,
      "id": "42f500b7",
      "metadata": {
        "execution": {
          "iopub.execute_input": "2024-10-07T19:39:55.641521Z",
          "iopub.status.busy": "2024-10-07T19:39:55.641113Z",
          "iopub.status.idle": "2024-10-07T19:39:55.980831Z",
          "shell.execute_reply": "2024-10-07T19:39:55.979715Z"
        },
        "papermill": {
          "duration": 0.378844,
          "end_time": "2024-10-07T19:39:55.983822",
          "exception": false,
          "start_time": "2024-10-07T19:39:55.604978",
          "status": "completed"
        },
        "tags": [],
        "id": "42f500b7"
      },
      "outputs": [],
      "source": [
        "# drop duplicates:\n",
        "df = df.drop_duplicates()"
      ]
    },
    {
      "cell_type": "code",
      "execution_count": null,
      "id": "d2433741",
      "metadata": {
        "execution": {
          "iopub.execute_input": "2024-10-07T19:39:56.055836Z",
          "iopub.status.busy": "2024-10-07T19:39:56.054988Z",
          "iopub.status.idle": "2024-10-07T19:39:56.095990Z",
          "shell.execute_reply": "2024-10-07T19:39:56.094886Z"
        },
        "papermill": {
          "duration": 0.079933,
          "end_time": "2024-10-07T19:39:56.098828",
          "exception": false,
          "start_time": "2024-10-07T19:39:56.018895",
          "status": "completed"
        },
        "tags": [],
        "id": "d2433741"
      },
      "outputs": [],
      "source": [
        "# Removing  negative values from quantity column\n",
        "df = df[df['Quantity']>0]"
      ]
    },
    {
      "cell_type": "markdown",
      "id": "8809c4c4",
      "metadata": {
        "papermill": {
          "duration": 0.034722,
          "end_time": "2024-10-07T19:39:56.170846",
          "exception": false,
          "start_time": "2024-10-07T19:39:56.136124",
          "status": "completed"
        },
        "tags": [],
        "id": "8809c4c4"
      },
      "source": [
        "# Boxplot:"
      ]
    },
    {
      "cell_type": "code",
      "execution_count": null,
      "id": "d24cc604",
      "metadata": {
        "execution": {
          "iopub.execute_input": "2024-10-07T19:39:56.244342Z",
          "iopub.status.busy": "2024-10-07T19:39:56.243497Z",
          "iopub.status.idle": "2024-10-07T19:39:58.818625Z",
          "shell.execute_reply": "2024-10-07T19:39:58.817390Z"
        },
        "papermill": {
          "duration": 2.614463,
          "end_time": "2024-10-07T19:39:58.821208",
          "exception": false,
          "start_time": "2024-10-07T19:39:56.206745",
          "status": "completed"
        },
        "tags": [],
        "id": "d24cc604",
        "outputId": "a55826b6-2c42-4f1f-e1f2-92bde54abc52"
      },
      "outputs": [
        {
          "data": {
            "image/png": "[encoded data removed]",
            "text/plain": [
              "<Figure size 1500x500 with 1 Axes>"
            ]
          },
          "metadata": {},
          "output_type": "display_data"
        }
      ],
      "source": [
        "# checking outliers\n",
        "df.boxplot(figsize=(15,5))\n",
        "plt.show()"
      ]
    },
    {
      "cell_type": "markdown",
      "id": "bf508200",
      "metadata": {
        "papermill": {
          "duration": 0.035579,
          "end_time": "2024-10-07T19:39:58.892248",
          "exception": false,
          "start_time": "2024-10-07T19:39:58.856669",
          "status": "completed"
        },
        "tags": [],
        "id": "bf508200"
      },
      "source": [
        "# Removing Outliers:"
      ]
    },
    {
      "cell_type": "code",
      "execution_count": null,
      "id": "d850f5eb",
      "metadata": {
        "execution": {
          "iopub.execute_input": "2024-10-07T19:39:58.964722Z",
          "iopub.status.busy": "2024-10-07T19:39:58.964290Z",
          "iopub.status.idle": "2024-10-07T19:39:59.016196Z",
          "shell.execute_reply": "2024-10-07T19:39:59.015176Z"
        },
        "papermill": {
          "duration": 0.091178,
          "end_time": "2024-10-07T19:39:59.018976",
          "exception": false,
          "start_time": "2024-10-07T19:39:58.927798",
          "status": "completed"
        },
        "tags": [],
        "id": "d850f5eb"
      },
      "outputs": [],
      "source": [
        "Q1 = df.Quantity.quantile(0.25)\n",
        "Q3 = df.Quantity.quantile(0.75)\n",
        "IQR = Q3-Q1\n",
        "df = df[(df.Quantity >= Q1-1.5*IQR) & (df.Quantity<=Q3+1.5*IQR)]"
      ]
    },
    {
      "cell_type": "code",
      "execution_count": null,
      "id": "603d3120",
      "metadata": {
        "execution": {
          "iopub.execute_input": "2024-10-07T19:39:59.096906Z",
          "iopub.status.busy": "2024-10-07T19:39:59.096523Z",
          "iopub.status.idle": "2024-10-07T19:39:59.149075Z",
          "shell.execute_reply": "2024-10-07T19:39:59.147887Z"
        },
        "papermill": {
          "duration": 0.093173,
          "end_time": "2024-10-07T19:39:59.151946",
          "exception": false,
          "start_time": "2024-10-07T19:39:59.058773",
          "status": "completed"
        },
        "tags": [],
        "id": "603d3120"
      },
      "outputs": [],
      "source": [
        "Q1 = df.UnitPrice.quantile(0.25)\n",
        "Q3 = df.UnitPrice.quantile(0.75)\n",
        "IQR = Q3-Q1\n",
        "df = df[(df.UnitPrice >= Q1-1.5*IQR) & (df.UnitPrice<=Q3+1.5*IQR)]"
      ]
    },
    {
      "cell_type": "code",
      "execution_count": null,
      "id": "4d423719",
      "metadata": {
        "execution": {
          "iopub.execute_input": "2024-10-07T19:39:59.228355Z",
          "iopub.status.busy": "2024-10-07T19:39:59.227546Z",
          "iopub.status.idle": "2024-10-07T19:40:01.344986Z",
          "shell.execute_reply": "2024-10-07T19:40:01.343749Z"
        },
        "papermill": {
          "duration": 2.160286,
          "end_time": "2024-10-07T19:40:01.347774",
          "exception": false,
          "start_time": "2024-10-07T19:39:59.187488",
          "status": "completed"
        },
        "tags": [],
        "id": "4d423719",
        "outputId": "9a30b9e9-07a5-47ee-f5d6-1ae74ffb7f82"
      },
      "outputs": [
        {
          "data": {
            "image/png": "[encoded data removed]",
            "text/plain": [
              "<Figure size 1500x500 with 1 Axes>"
            ]
          },
          "metadata": {},
          "output_type": "display_data"
        }
      ],
      "source": [
        "df.boxplot(figsize=(15,5))\n",
        "plt.show()"
      ]
    },
    {
      "cell_type": "markdown",
      "id": "26335b26",
      "metadata": {
        "papermill": {
          "duration": 0.036897,
          "end_time": "2024-10-07T19:40:01.421484",
          "exception": false,
          "start_time": "2024-10-07T19:40:01.384587",
          "status": "completed"
        },
        "tags": [],
        "id": "26335b26"
      },
      "source": [
        "# Creating Revenue feature:"
      ]
    },
    {
      "cell_type": "code",
      "execution_count": null,
      "id": "abbe13dc",
      "metadata": {
        "execution": {
          "iopub.execute_input": "2024-10-07T19:40:01.496087Z",
          "iopub.status.busy": "2024-10-07T19:40:01.495643Z",
          "iopub.status.idle": "2024-10-07T19:40:01.516520Z",
          "shell.execute_reply": "2024-10-07T19:40:01.515274Z"
        },
        "papermill": {
          "duration": 0.061475,
          "end_time": "2024-10-07T19:40:01.519424",
          "exception": false,
          "start_time": "2024-10-07T19:40:01.457949",
          "status": "completed"
        },
        "scrolled": true,
        "tags": [],
        "id": "abbe13dc",
        "outputId": "54edb4c0-953b-4741-8ec8-7945c6769695"
      },
      "outputs": [
        {
          "data": {
            "text/html": [
              "<div>\n",
              "<style scoped>\n",
              "    .dataframe tbody tr th:only-of-type {\n",
              "        vertical-align: middle;\n",
              "    }\n",
              "\n",
              "    .dataframe tbody tr th {\n",
              "        vertical-align: top;\n",
              "    }\n",
              "\n",
              "    .dataframe thead th {\n",
              "        text-align: right;\n",
              "    }\n",
              "</style>\n",
              "<table border=\"1\" class=\"dataframe\">\n",
              "  <thead>\n",
              "    <tr style=\"text-align: right;\">\n",
              "      <th></th>\n",
              "      <th>InvoiceNo</th>\n",
              "      <th>StockCode</th>\n",
              "      <th>Description</th>\n",
              "      <th>Quantity</th>\n",
              "      <th>InvoiceDate</th>\n",
              "      <th>UnitPrice</th>\n",
              "      <th>CustomerID</th>\n",
              "      <th>Country</th>\n",
              "      <th>Revenue</th>\n",
              "    </tr>\n",
              "  </thead>\n",
              "  <tbody>\n",
              "    <tr>\n",
              "      <th>0</th>\n",
              "      <td>536365</td>\n",
              "      <td>85123A</td>\n",
              "      <td>WHITE HANGING HEART T-LIGHT HOLDER</td>\n",
              "      <td>6</td>\n",
              "      <td>2010-12-01 08:26:00</td>\n",
              "      <td>2.55</td>\n",
              "      <td>17850.0</td>\n",
              "      <td>United Kingdom</td>\n",
              "      <td>15.30</td>\n",
              "    </tr>\n",
              "    <tr>\n",
              "      <th>1</th>\n",
              "      <td>536365</td>\n",
              "      <td>71053</td>\n",
              "      <td>WHITE METAL LANTERN</td>\n",
              "      <td>6</td>\n",
              "      <td>2010-12-01 08:26:00</td>\n",
              "      <td>3.39</td>\n",
              "      <td>17850.0</td>\n",
              "      <td>United Kingdom</td>\n",
              "      <td>20.34</td>\n",
              "    </tr>\n",
              "    <tr>\n",
              "      <th>2</th>\n",
              "      <td>536365</td>\n",
              "      <td>84406B</td>\n",
              "      <td>CREAM CUPID HEARTS COAT HANGER</td>\n",
              "      <td>8</td>\n",
              "      <td>2010-12-01 08:26:00</td>\n",
              "      <td>2.75</td>\n",
              "      <td>17850.0</td>\n",
              "      <td>United Kingdom</td>\n",
              "      <td>22.00</td>\n",
              "    </tr>\n",
              "    <tr>\n",
              "      <th>3</th>\n",
              "      <td>536365</td>\n",
              "      <td>84029G</td>\n",
              "      <td>KNITTED UNION FLAG HOT WATER BOTTLE</td>\n",
              "      <td>6</td>\n",
              "      <td>2010-12-01 08:26:00</td>\n",
              "      <td>3.39</td>\n",
              "      <td>17850.0</td>\n",
              "      <td>United Kingdom</td>\n",
              "      <td>20.34</td>\n",
              "    </tr>\n",
              "    <tr>\n",
              "      <th>4</th>\n",
              "      <td>536365</td>\n",
              "      <td>84029E</td>\n",
              "      <td>RED WOOLLY HOTTIE WHITE HEART.</td>\n",
              "      <td>6</td>\n",
              "      <td>2010-12-01 08:26:00</td>\n",
              "      <td>3.39</td>\n",
              "      <td>17850.0</td>\n",
              "      <td>United Kingdom</td>\n",
              "      <td>20.34</td>\n",
              "    </tr>\n",
              "  </tbody>\n",
              "</table>\n",
              "</div>"
            ],
            "text/plain": [
              "  InvoiceNo StockCode                          Description  Quantity  \\\n",
              "0    536365    85123A   WHITE HANGING HEART T-LIGHT HOLDER         6   \n",
              "1    536365     71053                  WHITE METAL LANTERN         6   \n",
              "2    536365    84406B       CREAM CUPID HEARTS COAT HANGER         8   \n",
              "3    536365    84029G  KNITTED UNION FLAG HOT WATER BOTTLE         6   \n",
              "4    536365    84029E       RED WOOLLY HOTTIE WHITE HEART.         6   \n",
              "\n",
              "          InvoiceDate  UnitPrice  CustomerID         Country  Revenue  \n",
              "0 2010-12-01 08:26:00       2.55     17850.0  United Kingdom    15.30  \n",
              "1 2010-12-01 08:26:00       3.39     17850.0  United Kingdom    20.34  \n",
              "2 2010-12-01 08:26:00       2.75     17850.0  United Kingdom    22.00  \n",
              "3 2010-12-01 08:26:00       3.39     17850.0  United Kingdom    20.34  \n",
              "4 2010-12-01 08:26:00       3.39     17850.0  United Kingdom    20.34  "
            ]
          },
          "execution_count": 17,
          "metadata": {},
          "output_type": "execute_result"
        }
      ],
      "source": [
        "# adding revenue column to the dataset\n",
        "df['Revenue'] = df['Quantity'] * df['UnitPrice']\n",
        "df.head()"
      ]
    },
    {
      "cell_type": "markdown",
      "id": "55c0ddcc",
      "metadata": {
        "papermill": {
          "duration": 0.035875,
          "end_time": "2024-10-07T19:40:01.591439",
          "exception": false,
          "start_time": "2024-10-07T19:40:01.555564",
          "status": "completed"
        },
        "tags": [],
        "id": "55c0ddcc"
      },
      "source": [
        "# Top Countries:"
      ]
    },
    {
      "cell_type": "code",
      "execution_count": null,
      "id": "04b10aeb",
      "metadata": {
        "execution": {
          "iopub.execute_input": "2024-10-07T19:40:01.665519Z",
          "iopub.status.busy": "2024-10-07T19:40:01.664708Z",
          "iopub.status.idle": "2024-10-07T19:40:01.731089Z",
          "shell.execute_reply": "2024-10-07T19:40:01.729949Z"
        },
        "papermill": {
          "duration": 0.106208,
          "end_time": "2024-10-07T19:40:01.733639",
          "exception": false,
          "start_time": "2024-10-07T19:40:01.627431",
          "status": "completed"
        },
        "tags": [],
        "id": "04b10aeb",
        "outputId": "653384c0-f976-4618-becd-4d3088c26905"
      },
      "outputs": [
        {
          "data": {
            "text/plain": [
              "Country\n",
              "United Kingdom    300303\n",
              "Germany             7450\n",
              "France              6891\n",
              "EIRE                5444\n",
              "Spain               2041\n",
              "Belgium             1660\n",
              "Switzerland         1434\n",
              "Portugal            1252\n",
              "Norway               773\n",
              "Netherlands          617\n",
              "Name: count, dtype: int64"
            ]
          },
          "execution_count": 18,
          "metadata": {},
          "output_type": "execute_result"
        }
      ],
      "source": [
        "#getting top country: which country has more sales\n",
        "Top_Country = df['Country'].value_counts().head(10)\n",
        "Top_Country"
      ]
    },
    {
      "cell_type": "markdown",
      "id": "f9166bc1",
      "metadata": {
        "papermill": {
          "duration": 0.035929,
          "end_time": "2024-10-07T19:40:01.805985",
          "exception": false,
          "start_time": "2024-10-07T19:40:01.770056",
          "status": "completed"
        },
        "tags": [],
        "id": "f9166bc1"
      },
      "source": [
        "# Top Countries Visualization:"
      ]
    },
    {
      "cell_type": "code",
      "execution_count": null,
      "id": "7ef4776d",
      "metadata": {
        "execution": {
          "iopub.execute_input": "2024-10-07T19:40:01.880939Z",
          "iopub.status.busy": "2024-10-07T19:40:01.880535Z",
          "iopub.status.idle": "2024-10-07T19:40:02.159913Z",
          "shell.execute_reply": "2024-10-07T19:40:02.158787Z"
        },
        "papermill": {
          "duration": 0.320441,
          "end_time": "2024-10-07T19:40:02.162524",
          "exception": false,
          "start_time": "2024-10-07T19:40:01.842083",
          "status": "completed"
        },
        "tags": [],
        "id": "7ef4776d",
        "outputId": "1ce3b5a8-7015-4a43-eebf-90b712bff32a"
      },
      "outputs": [
        {
          "data": {
            "image/png": "[encoded data removed]",
            "text/plain": [
              "<Figure size 1500x500 with 1 Axes>"
            ]
          },
          "metadata": {},
          "output_type": "display_data"
        }
      ],
      "source": [
        "import matplotlib.pyplot as plt\n",
        "plt.figure(figsize=(15,5))\n",
        "sns.barplot(x=Top_Country.index,y=Top_Country.values)\n",
        "plt.xlabel('Top_Country names')\n",
        "plt.ylabel('count')\n",
        "plt.xticks(rotation='vertical')\n",
        "plt.show()"
      ]
    },
    {
      "cell_type": "markdown",
      "id": "8a8819c9",
      "metadata": {
        "papermill": {
          "duration": 0.03657,
          "end_time": "2024-10-07T19:40:02.235693",
          "exception": false,
          "start_time": "2024-10-07T19:40:02.199123",
          "status": "completed"
        },
        "tags": [],
        "id": "8a8819c9"
      },
      "source": [
        "majority of sales rate is high in United Kingdom compared to other countries"
      ]
    },
    {
      "cell_type": "code",
      "execution_count": null,
      "id": "277e5dce",
      "metadata": {
        "execution": {
          "iopub.execute_input": "2024-10-07T19:40:02.312427Z",
          "iopub.status.busy": "2024-10-07T19:40:02.312013Z",
          "iopub.status.idle": "2024-10-07T19:40:02.319524Z",
          "shell.execute_reply": "2024-10-07T19:40:02.318426Z"
        },
        "papermill": {
          "duration": 0.048337,
          "end_time": "2024-10-07T19:40:02.321872",
          "exception": false,
          "start_time": "2024-10-07T19:40:02.273535",
          "status": "completed"
        },
        "tags": [],
        "id": "277e5dce",
        "outputId": "2a458c24-a3c2-42dc-9924-4ffdbcc00328"
      },
      "outputs": [
        {
          "data": {
            "text/plain": [
              "Index(['United Kingdom', 'Germany', 'France', 'EIRE', 'Spain', 'Belgium',\n",
              "       'Switzerland', 'Portugal', 'Norway', 'Netherlands'],\n",
              "      dtype='object', name='Country')"
            ]
          },
          "execution_count": 20,
          "metadata": {},
          "output_type": "execute_result"
        }
      ],
      "source": [
        "Top_Country.index"
      ]
    },
    {
      "cell_type": "markdown",
      "id": "e9b8b25c",
      "metadata": {
        "papermill": {
          "duration": 0.037361,
          "end_time": "2024-10-07T19:40:02.396361",
          "exception": false,
          "start_time": "2024-10-07T19:40:02.359000",
          "status": "completed"
        },
        "tags": [],
        "id": "e9b8b25c"
      },
      "source": [
        "# Top Selling Products:"
      ]
    },
    {
      "cell_type": "code",
      "execution_count": null,
      "id": "c7f62a73",
      "metadata": {
        "execution": {
          "iopub.execute_input": "2024-10-07T19:40:02.472929Z",
          "iopub.status.busy": "2024-10-07T19:40:02.472513Z",
          "iopub.status.idle": "2024-10-07T19:40:02.546025Z",
          "shell.execute_reply": "2024-10-07T19:40:02.544905Z"
        },
        "papermill": {
          "duration": 0.114288,
          "end_time": "2024-10-07T19:40:02.548429",
          "exception": false,
          "start_time": "2024-10-07T19:40:02.434141",
          "status": "completed"
        },
        "tags": [],
        "id": "c7f62a73",
        "outputId": "4c1ce4bf-f062-47e2-bd00-57c6190be5d9"
      },
      "outputs": [
        {
          "data": {
            "text/plain": [
              "Description\n",
              "WHITE HANGING HEART T-LIGHT HOLDER    1668\n",
              "JUMBO BAG RED RETROSPOT               1327\n",
              "PARTY BUNTING                         1268\n",
              "LUNCH BAG RED RETROSPOT               1195\n",
              "ASSORTED COLOUR BIRD ORNAMENT         1146\n",
              "SET OF 3 CAKE TINS PANTRY DESIGN      1113\n",
              "LUNCH BAG  BLACK SKULL.               1021\n",
              "SPOTTY BUNTING                         973\n",
              "LUNCH BAG SPACEBOY DESIGN              956\n",
              "PACK OF 72 RETROSPOT CAKE CASES        945\n",
              "NATURAL SLATE HEART CHALKBOARD         936\n",
              "LUNCH BAG CARS BLUE                    926\n",
              "REX CASH+CARRY JUMBO SHOPPER           896\n",
              "LUNCH BAG PINK POLKADOT                895\n",
              "HEART OF WICKER SMALL                  886\n",
              "LUNCH BAG SUKI DESIGN                  867\n",
              "PAPER CHAIN KIT 50'S CHRISTMAS         866\n",
              "ALARM CLOCK BAKELIKE RED               860\n",
              "BAKING SET 9 PIECE RETROSPOT           829\n",
              "JAM MAKING SET WITH JARS               824\n",
              "Name: count, dtype: int64"
            ]
          },
          "execution_count": 21,
          "metadata": {},
          "output_type": "execute_result"
        }
      ],
      "source": [
        "# finding top selling products\n",
        "Top_products = df['Description'].value_counts().head(20)\n",
        "Top_products"
      ]
    },
    {
      "cell_type": "markdown",
      "id": "311f919b",
      "metadata": {
        "papermill": {
          "duration": 0.037001,
          "end_time": "2024-10-07T19:40:02.622506",
          "exception": false,
          "start_time": "2024-10-07T19:40:02.585505",
          "status": "completed"
        },
        "tags": [],
        "id": "311f919b"
      },
      "source": [
        "# Top Selling Products Visualization:"
      ]
    },
    {
      "cell_type": "code",
      "execution_count": null,
      "id": "9b17b31e",
      "metadata": {
        "execution": {
          "iopub.execute_input": "2024-10-07T19:40:02.700230Z",
          "iopub.status.busy": "2024-10-07T19:40:02.699811Z",
          "iopub.status.idle": "2024-10-07T19:40:03.248824Z",
          "shell.execute_reply": "2024-10-07T19:40:03.247530Z"
        },
        "papermill": {
          "duration": 0.590926,
          "end_time": "2024-10-07T19:40:03.251794",
          "exception": false,
          "start_time": "2024-10-07T19:40:02.660868",
          "status": "completed"
        },
        "tags": [],
        "id": "9b17b31e",
        "outputId": "383fad8c-01e3-40bc-807f-95ab19381da8"
      },
      "outputs": [
        {
          "data": {
            "image/png": "[encoded data removed]",
            "text/plain": [
              "<Figure size 1500x500 with 1 Axes>"
            ]
          },
          "metadata": {},
          "output_type": "display_data"
        }
      ],
      "source": [
        "import matplotlib.pyplot as plt\n",
        "plt.figure(figsize=(15,5))\n",
        "sns.barplot(x=Top_products.index,y=Top_products.values)\n",
        "plt.title('top selling products')\n",
        "plt.xlabel('Description')\n",
        "plt.ylabel('times purchased')\n",
        "plt.xticks(rotation='vertical')\n",
        "plt.show()"
      ]
    },
    {
      "cell_type": "markdown",
      "id": "86eb8aec",
      "metadata": {
        "papermill": {
          "duration": 0.038558,
          "end_time": "2024-10-07T19:40:03.329603",
          "exception": false,
          "start_time": "2024-10-07T19:40:03.291045",
          "status": "completed"
        },
        "tags": [],
        "id": "86eb8aec"
      },
      "source": [
        "# Extracting United Kingdom sales Data:"
      ]
    },
    {
      "cell_type": "markdown",
      "id": "9020c8db",
      "metadata": {
        "papermill": {
          "duration": 0.039771,
          "end_time": "2024-10-07T19:40:03.407937",
          "exception": false,
          "start_time": "2024-10-07T19:40:03.368166",
          "status": "completed"
        },
        "tags": [],
        "id": "9020c8db"
      },
      "source": [
        "Extracting United Kingdom sales data from the dataset because sales are higher than other countries."
      ]
    },
    {
      "cell_type": "code",
      "execution_count": null,
      "id": "40279527",
      "metadata": {
        "execution": {
          "iopub.execute_input": "2024-10-07T19:40:03.487575Z",
          "iopub.status.busy": "2024-10-07T19:40:03.487146Z",
          "iopub.status.idle": "2024-10-07T19:40:03.595308Z",
          "shell.execute_reply": "2024-10-07T19:40:03.594175Z"
        },
        "papermill": {
          "duration": 0.150833,
          "end_time": "2024-10-07T19:40:03.597797",
          "exception": false,
          "start_time": "2024-10-07T19:40:03.446964",
          "status": "completed"
        },
        "tags": [],
        "id": "40279527",
        "outputId": "6fc35cb6-77af-433a-e8ef-f83ca8bc308b"
      },
      "outputs": [
        {
          "data": {
            "text/html": [
              "<div>\n",
              "<style scoped>\n",
              "    .dataframe tbody tr th:only-of-type {\n",
              "        vertical-align: middle;\n",
              "    }\n",
              "\n",
              "    .dataframe tbody tr th {\n",
              "        vertical-align: top;\n",
              "    }\n",
              "\n",
              "    .dataframe thead th {\n",
              "        text-align: right;\n",
              "    }\n",
              "</style>\n",
              "<table border=\"1\" class=\"dataframe\">\n",
              "  <thead>\n",
              "    <tr style=\"text-align: right;\">\n",
              "      <th></th>\n",
              "      <th>InvoiceNo</th>\n",
              "      <th>StockCode</th>\n",
              "      <th>Description</th>\n",
              "      <th>Quantity</th>\n",
              "      <th>InvoiceDate</th>\n",
              "      <th>UnitPrice</th>\n",
              "      <th>CustomerID</th>\n",
              "      <th>Country</th>\n",
              "      <th>Revenue</th>\n",
              "    </tr>\n",
              "  </thead>\n",
              "  <tbody>\n",
              "    <tr>\n",
              "      <th>0</th>\n",
              "      <td>536365</td>\n",
              "      <td>85123A</td>\n",
              "      <td>WHITE HANGING HEART T-LIGHT HOLDER</td>\n",
              "      <td>6</td>\n",
              "      <td>2010-12-01 08:26:00</td>\n",
              "      <td>2.55</td>\n",
              "      <td>17850.0</td>\n",
              "      <td>United Kingdom</td>\n",
              "      <td>15.30</td>\n",
              "    </tr>\n",
              "    <tr>\n",
              "      <th>1</th>\n",
              "      <td>536365</td>\n",
              "      <td>71053</td>\n",
              "      <td>WHITE METAL LANTERN</td>\n",
              "      <td>6</td>\n",
              "      <td>2010-12-01 08:26:00</td>\n",
              "      <td>3.39</td>\n",
              "      <td>17850.0</td>\n",
              "      <td>United Kingdom</td>\n",
              "      <td>20.34</td>\n",
              "    </tr>\n",
              "    <tr>\n",
              "      <th>2</th>\n",
              "      <td>536365</td>\n",
              "      <td>84406B</td>\n",
              "      <td>CREAM CUPID HEARTS COAT HANGER</td>\n",
              "      <td>8</td>\n",
              "      <td>2010-12-01 08:26:00</td>\n",
              "      <td>2.75</td>\n",
              "      <td>17850.0</td>\n",
              "      <td>United Kingdom</td>\n",
              "      <td>22.00</td>\n",
              "    </tr>\n",
              "    <tr>\n",
              "      <th>3</th>\n",
              "      <td>536365</td>\n",
              "      <td>84029G</td>\n",
              "      <td>KNITTED UNION FLAG HOT WATER BOTTLE</td>\n",
              "      <td>6</td>\n",
              "      <td>2010-12-01 08:26:00</td>\n",
              "      <td>3.39</td>\n",
              "      <td>17850.0</td>\n",
              "      <td>United Kingdom</td>\n",
              "      <td>20.34</td>\n",
              "    </tr>\n",
              "    <tr>\n",
              "      <th>4</th>\n",
              "      <td>536365</td>\n",
              "      <td>84029E</td>\n",
              "      <td>RED WOOLLY HOTTIE WHITE HEART.</td>\n",
              "      <td>6</td>\n",
              "      <td>2010-12-01 08:26:00</td>\n",
              "      <td>3.39</td>\n",
              "      <td>17850.0</td>\n",
              "      <td>United Kingdom</td>\n",
              "      <td>20.34</td>\n",
              "    </tr>\n",
              "    <tr>\n",
              "      <th>...</th>\n",
              "      <td>...</td>\n",
              "      <td>...</td>\n",
              "      <td>...</td>\n",
              "      <td>...</td>\n",
              "      <td>...</td>\n",
              "      <td>...</td>\n",
              "      <td>...</td>\n",
              "      <td>...</td>\n",
              "      <td>...</td>\n",
              "    </tr>\n",
              "    <tr>\n",
              "      <th>541888</th>\n",
              "      <td>581585</td>\n",
              "      <td>23145</td>\n",
              "      <td>ZINC T-LIGHT HOLDER STAR LARGE</td>\n",
              "      <td>12</td>\n",
              "      <td>2011-12-09 12:31:00</td>\n",
              "      <td>0.95</td>\n",
              "      <td>15804.0</td>\n",
              "      <td>United Kingdom</td>\n",
              "      <td>11.40</td>\n",
              "    </tr>\n",
              "    <tr>\n",
              "      <th>541889</th>\n",
              "      <td>581585</td>\n",
              "      <td>22466</td>\n",
              "      <td>FAIRY TALE COTTAGE NIGHT LIGHT</td>\n",
              "      <td>12</td>\n",
              "      <td>2011-12-09 12:31:00</td>\n",
              "      <td>1.95</td>\n",
              "      <td>15804.0</td>\n",
              "      <td>United Kingdom</td>\n",
              "      <td>23.40</td>\n",
              "    </tr>\n",
              "    <tr>\n",
              "      <th>541890</th>\n",
              "      <td>581586</td>\n",
              "      <td>22061</td>\n",
              "      <td>LARGE CAKE STAND  HANGING STRAWBERY</td>\n",
              "      <td>8</td>\n",
              "      <td>2011-12-09 12:49:00</td>\n",
              "      <td>2.95</td>\n",
              "      <td>13113.0</td>\n",
              "      <td>United Kingdom</td>\n",
              "      <td>23.60</td>\n",
              "    </tr>\n",
              "    <tr>\n",
              "      <th>541891</th>\n",
              "      <td>581586</td>\n",
              "      <td>23275</td>\n",
              "      <td>SET OF 3 HANGING OWLS OLLIE BEAK</td>\n",
              "      <td>24</td>\n",
              "      <td>2011-12-09 12:49:00</td>\n",
              "      <td>1.25</td>\n",
              "      <td>13113.0</td>\n",
              "      <td>United Kingdom</td>\n",
              "      <td>30.00</td>\n",
              "    </tr>\n",
              "    <tr>\n",
              "      <th>541893</th>\n",
              "      <td>581586</td>\n",
              "      <td>20685</td>\n",
              "      <td>DOORMAT RED RETROSPOT</td>\n",
              "      <td>10</td>\n",
              "      <td>2011-12-09 12:49:00</td>\n",
              "      <td>7.08</td>\n",
              "      <td>13113.0</td>\n",
              "      <td>United Kingdom</td>\n",
              "      <td>70.80</td>\n",
              "    </tr>\n",
              "  </tbody>\n",
              "</table>\n",
              "<p>300303 rows × 9 columns</p>\n",
              "</div>"
            ],
            "text/plain": [
              "       InvoiceNo StockCode                          Description  Quantity  \\\n",
              "0         536365    85123A   WHITE HANGING HEART T-LIGHT HOLDER         6   \n",
              "1         536365     71053                  WHITE METAL LANTERN         6   \n",
              "2         536365    84406B       CREAM CUPID HEARTS COAT HANGER         8   \n",
              "3         536365    84029G  KNITTED UNION FLAG HOT WATER BOTTLE         6   \n",
              "4         536365    84029E       RED WOOLLY HOTTIE WHITE HEART.         6   \n",
              "...          ...       ...                                  ...       ...   \n",
              "541888    581585     23145       ZINC T-LIGHT HOLDER STAR LARGE        12   \n",
              "541889    581585     22466       FAIRY TALE COTTAGE NIGHT LIGHT        12   \n",
              "541890    581586     22061  LARGE CAKE STAND  HANGING STRAWBERY         8   \n",
              "541891    581586     23275     SET OF 3 HANGING OWLS OLLIE BEAK        24   \n",
              "541893    581586     20685                DOORMAT RED RETROSPOT        10   \n",
              "\n",
              "               InvoiceDate  UnitPrice  CustomerID         Country  Revenue  \n",
              "0      2010-12-01 08:26:00       2.55     17850.0  United Kingdom    15.30  \n",
              "1      2010-12-01 08:26:00       3.39     17850.0  United Kingdom    20.34  \n",
              "2      2010-12-01 08:26:00       2.75     17850.0  United Kingdom    22.00  \n",
              "3      2010-12-01 08:26:00       3.39     17850.0  United Kingdom    20.34  \n",
              "4      2010-12-01 08:26:00       3.39     17850.0  United Kingdom    20.34  \n",
              "...                    ...        ...         ...             ...      ...  \n",
              "541888 2011-12-09 12:31:00       0.95     15804.0  United Kingdom    11.40  \n",
              "541889 2011-12-09 12:31:00       1.95     15804.0  United Kingdom    23.40  \n",
              "541890 2011-12-09 12:49:00       2.95     13113.0  United Kingdom    23.60  \n",
              "541891 2011-12-09 12:49:00       1.25     13113.0  United Kingdom    30.00  \n",
              "541893 2011-12-09 12:49:00       7.08     13113.0  United Kingdom    70.80  \n",
              "\n",
              "[300303 rows x 9 columns]"
            ]
          },
          "execution_count": 23,
          "metadata": {},
          "output_type": "execute_result"
        }
      ],
      "source": [
        "#df.set_index('InvoiceDate',inplace = True)\n",
        "data = df[df['Country']=='United Kingdom']\n",
        "data"
      ]
    },
    {
      "cell_type": "markdown",
      "id": "0af7575c",
      "metadata": {
        "papermill": {
          "duration": 0.039936,
          "end_time": "2024-10-07T19:40:03.677260",
          "exception": false,
          "start_time": "2024-10-07T19:40:03.637324",
          "status": "completed"
        },
        "tags": [],
        "id": "0af7575c"
      },
      "source": [
        "# Dropping Cancelled Transactions:"
      ]
    },
    {
      "cell_type": "code",
      "execution_count": null,
      "id": "2f8bf4c8",
      "metadata": {
        "execution": {
          "iopub.execute_input": "2024-10-07T19:40:03.759449Z",
          "iopub.status.busy": "2024-10-07T19:40:03.758979Z",
          "iopub.status.idle": "2024-10-07T19:40:04.015464Z",
          "shell.execute_reply": "2024-10-07T19:40:04.014188Z"
        },
        "papermill": {
          "duration": 0.301005,
          "end_time": "2024-10-07T19:40:04.018448",
          "exception": false,
          "start_time": "2024-10-07T19:40:03.717443",
          "status": "completed"
        },
        "scrolled": true,
        "tags": [],
        "id": "2f8bf4c8"
      },
      "outputs": [],
      "source": [
        "# there are cancelled transactions in InvoiceNo column contains 'C',lets Drop cancelled transactions:\n",
        "indx = data.InvoiceNo[data.InvoiceNo.str.contains('C') == True].index\n",
        "data.drop(index= indx, inplace= True)"
      ]
    },
    {
      "cell_type": "code",
      "execution_count": null,
      "id": "6c6a5e12",
      "metadata": {
        "execution": {
          "iopub.execute_input": "2024-10-07T19:40:04.101745Z",
          "iopub.status.busy": "2024-10-07T19:40:04.101292Z",
          "iopub.status.idle": "2024-10-07T19:40:04.108516Z",
          "shell.execute_reply": "2024-10-07T19:40:04.107221Z"
        },
        "papermill": {
          "duration": 0.052821,
          "end_time": "2024-10-07T19:40:04.111566",
          "exception": false,
          "start_time": "2024-10-07T19:40:04.058745",
          "status": "completed"
        },
        "tags": [],
        "id": "6c6a5e12"
      },
      "outputs": [],
      "source": [
        "data.reset_index(inplace = True)"
      ]
    },
    {
      "cell_type": "code",
      "execution_count": null,
      "id": "c561c494",
      "metadata": {
        "execution": {
          "iopub.execute_input": "2024-10-07T19:40:04.195269Z",
          "iopub.status.busy": "2024-10-07T19:40:04.194849Z",
          "iopub.status.idle": "2024-10-07T19:40:04.202101Z",
          "shell.execute_reply": "2024-10-07T19:40:04.201045Z"
        },
        "papermill": {
          "duration": 0.050728,
          "end_time": "2024-10-07T19:40:04.204802",
          "exception": false,
          "start_time": "2024-10-07T19:40:04.154074",
          "status": "completed"
        },
        "scrolled": true,
        "tags": [],
        "id": "c561c494",
        "outputId": "8dce0f8a-8e3e-48aa-c373-fa929c778817"
      },
      "outputs": [
        {
          "data": {
            "text/plain": [
              "(300303, 10)"
            ]
          },
          "execution_count": 26,
          "metadata": {},
          "output_type": "execute_result"
        }
      ],
      "source": [
        "data.shape"
      ]
    },
    {
      "cell_type": "code",
      "execution_count": null,
      "id": "0b43c0be",
      "metadata": {
        "execution": {
          "iopub.execute_input": "2024-10-07T19:40:04.288115Z",
          "iopub.status.busy": "2024-10-07T19:40:04.286892Z",
          "iopub.status.idle": "2024-10-07T19:40:04.410774Z",
          "shell.execute_reply": "2024-10-07T19:40:04.409279Z"
        },
        "papermill": {
          "duration": 0.168037,
          "end_time": "2024-10-07T19:40:04.413813",
          "exception": false,
          "start_time": "2024-10-07T19:40:04.245776",
          "status": "completed"
        },
        "scrolled": true,
        "tags": [],
        "id": "0b43c0be"
      },
      "outputs": [],
      "source": [
        "import datetime as dt\n",
        "\n",
        "data['Month'] = data['InvoiceDate'].dt.month\n",
        "data['Day'] = data['InvoiceDate'].dt.day\n",
        "data['Hour'] = data['InvoiceDate'].dt.hour\n",
        "data['year'] =data['InvoiceDate'].dt.year"
      ]
    },
    {
      "cell_type": "code",
      "execution_count": null,
      "id": "bc483fea",
      "metadata": {
        "execution": {
          "iopub.execute_input": "2024-10-07T19:40:04.496970Z",
          "iopub.status.busy": "2024-10-07T19:40:04.496564Z",
          "iopub.status.idle": "2024-10-07T19:40:04.521492Z",
          "shell.execute_reply": "2024-10-07T19:40:04.520069Z"
        },
        "papermill": {
          "duration": 0.069257,
          "end_time": "2024-10-07T19:40:04.524005",
          "exception": false,
          "start_time": "2024-10-07T19:40:04.454748",
          "status": "completed"
        },
        "scrolled": true,
        "tags": [],
        "id": "bc483fea",
        "outputId": "e523a3e7-815b-4050-f1a6-80a5021efa7a"
      },
      "outputs": [
        {
          "data": {
            "text/html": [
              "<div>\n",
              "<style scoped>\n",
              "    .dataframe tbody tr th:only-of-type {\n",
              "        vertical-align: middle;\n",
              "    }\n",
              "\n",
              "    .dataframe tbody tr th {\n",
              "        vertical-align: top;\n",
              "    }\n",
              "\n",
              "    .dataframe thead th {\n",
              "        text-align: right;\n",
              "    }\n",
              "</style>\n",
              "<table border=\"1\" class=\"dataframe\">\n",
              "  <thead>\n",
              "    <tr style=\"text-align: right;\">\n",
              "      <th></th>\n",
              "      <th>index</th>\n",
              "      <th>InvoiceNo</th>\n",
              "      <th>StockCode</th>\n",
              "      <th>Description</th>\n",
              "      <th>Quantity</th>\n",
              "      <th>InvoiceDate</th>\n",
              "      <th>UnitPrice</th>\n",
              "      <th>CustomerID</th>\n",
              "      <th>Country</th>\n",
              "      <th>Revenue</th>\n",
              "      <th>Month</th>\n",
              "      <th>Day</th>\n",
              "      <th>Hour</th>\n",
              "      <th>year</th>\n",
              "    </tr>\n",
              "  </thead>\n",
              "  <tbody>\n",
              "    <tr>\n",
              "      <th>0</th>\n",
              "      <td>0</td>\n",
              "      <td>536365</td>\n",
              "      <td>85123A</td>\n",
              "      <td>WHITE HANGING HEART T-LIGHT HOLDER</td>\n",
              "      <td>6</td>\n",
              "      <td>2010-12-01 08:26:00</td>\n",
              "      <td>2.55</td>\n",
              "      <td>17850.0</td>\n",
              "      <td>United Kingdom</td>\n",
              "      <td>15.30</td>\n",
              "      <td>12</td>\n",
              "      <td>1</td>\n",
              "      <td>8</td>\n",
              "      <td>2010</td>\n",
              "    </tr>\n",
              "    <tr>\n",
              "      <th>1</th>\n",
              "      <td>1</td>\n",
              "      <td>536365</td>\n",
              "      <td>71053</td>\n",
              "      <td>WHITE METAL LANTERN</td>\n",
              "      <td>6</td>\n",
              "      <td>2010-12-01 08:26:00</td>\n",
              "      <td>3.39</td>\n",
              "      <td>17850.0</td>\n",
              "      <td>United Kingdom</td>\n",
              "      <td>20.34</td>\n",
              "      <td>12</td>\n",
              "      <td>1</td>\n",
              "      <td>8</td>\n",
              "      <td>2010</td>\n",
              "    </tr>\n",
              "    <tr>\n",
              "      <th>2</th>\n",
              "      <td>2</td>\n",
              "      <td>536365</td>\n",
              "      <td>84406B</td>\n",
              "      <td>CREAM CUPID HEARTS COAT HANGER</td>\n",
              "      <td>8</td>\n",
              "      <td>2010-12-01 08:26:00</td>\n",
              "      <td>2.75</td>\n",
              "      <td>17850.0</td>\n",
              "      <td>United Kingdom</td>\n",
              "      <td>22.00</td>\n",
              "      <td>12</td>\n",
              "      <td>1</td>\n",
              "      <td>8</td>\n",
              "      <td>2010</td>\n",
              "    </tr>\n",
              "    <tr>\n",
              "      <th>3</th>\n",
              "      <td>3</td>\n",
              "      <td>536365</td>\n",
              "      <td>84029G</td>\n",
              "      <td>KNITTED UNION FLAG HOT WATER BOTTLE</td>\n",
              "      <td>6</td>\n",
              "      <td>2010-12-01 08:26:00</td>\n",
              "      <td>3.39</td>\n",
              "      <td>17850.0</td>\n",
              "      <td>United Kingdom</td>\n",
              "      <td>20.34</td>\n",
              "      <td>12</td>\n",
              "      <td>1</td>\n",
              "      <td>8</td>\n",
              "      <td>2010</td>\n",
              "    </tr>\n",
              "    <tr>\n",
              "      <th>4</th>\n",
              "      <td>4</td>\n",
              "      <td>536365</td>\n",
              "      <td>84029E</td>\n",
              "      <td>RED WOOLLY HOTTIE WHITE HEART.</td>\n",
              "      <td>6</td>\n",
              "      <td>2010-12-01 08:26:00</td>\n",
              "      <td>3.39</td>\n",
              "      <td>17850.0</td>\n",
              "      <td>United Kingdom</td>\n",
              "      <td>20.34</td>\n",
              "      <td>12</td>\n",
              "      <td>1</td>\n",
              "      <td>8</td>\n",
              "      <td>2010</td>\n",
              "    </tr>\n",
              "  </tbody>\n",
              "</table>\n",
              "</div>"
            ],
            "text/plain": [
              "   index InvoiceNo StockCode                          Description  Quantity  \\\n",
              "0      0    536365    85123A   WHITE HANGING HEART T-LIGHT HOLDER         6   \n",
              "1      1    536365     71053                  WHITE METAL LANTERN         6   \n",
              "2      2    536365    84406B       CREAM CUPID HEARTS COAT HANGER         8   \n",
              "3      3    536365    84029G  KNITTED UNION FLAG HOT WATER BOTTLE         6   \n",
              "4      4    536365    84029E       RED WOOLLY HOTTIE WHITE HEART.         6   \n",
              "\n",
              "          InvoiceDate  UnitPrice  CustomerID         Country  Revenue  Month  \\\n",
              "0 2010-12-01 08:26:00       2.55     17850.0  United Kingdom    15.30     12   \n",
              "1 2010-12-01 08:26:00       3.39     17850.0  United Kingdom    20.34     12   \n",
              "2 2010-12-01 08:26:00       2.75     17850.0  United Kingdom    22.00     12   \n",
              "3 2010-12-01 08:26:00       3.39     17850.0  United Kingdom    20.34     12   \n",
              "4 2010-12-01 08:26:00       3.39     17850.0  United Kingdom    20.34     12   \n",
              "\n",
              "   Day  Hour  year  \n",
              "0    1     8  2010  \n",
              "1    1     8  2010  \n",
              "2    1     8  2010  \n",
              "3    1     8  2010  \n",
              "4    1     8  2010  "
            ]
          },
          "execution_count": 28,
          "metadata": {},
          "output_type": "execute_result"
        }
      ],
      "source": [
        "data.head()"
      ]
    },
    {
      "cell_type": "code",
      "execution_count": null,
      "id": "99cb7cb3",
      "metadata": {
        "execution": {
          "iopub.execute_input": "2024-10-07T19:40:04.607351Z",
          "iopub.status.busy": "2024-10-07T19:40:04.606286Z",
          "iopub.status.idle": "2024-10-07T19:40:04.618846Z",
          "shell.execute_reply": "2024-10-07T19:40:04.617645Z"
        },
        "papermill": {
          "duration": 0.057005,
          "end_time": "2024-10-07T19:40:04.621308",
          "exception": false,
          "start_time": "2024-10-07T19:40:04.564303",
          "status": "completed"
        },
        "tags": [],
        "id": "99cb7cb3",
        "outputId": "59fe745c-7e0f-4a8a-e530-df72f2ee3945"
      },
      "outputs": [
        {
          "data": {
            "text/plain": [
              "Month\n",
              "11    50697\n",
              "10    37637\n",
              "12    33586\n",
              "9     30600\n",
              "5     20892\n",
              "3     20147\n",
              "7     19909\n",
              "6     19829\n",
              "8     19542\n",
              "4     17457\n",
              "1     15156\n",
              "2     14851\n",
              "Name: count, dtype: int64"
            ]
          },
          "execution_count": 29,
          "metadata": {},
          "output_type": "execute_result"
        }
      ],
      "source": [
        "data['Month'].value_counts()"
      ]
    },
    {
      "cell_type": "code",
      "execution_count": null,
      "id": "90cf8751",
      "metadata": {
        "execution": {
          "iopub.execute_input": "2024-10-07T19:40:04.703857Z",
          "iopub.status.busy": "2024-10-07T19:40:04.703475Z",
          "iopub.status.idle": "2024-10-07T19:40:04.714584Z",
          "shell.execute_reply": "2024-10-07T19:40:04.713436Z"
        },
        "papermill": {
          "duration": 0.05507,
          "end_time": "2024-10-07T19:40:04.717156",
          "exception": false,
          "start_time": "2024-10-07T19:40:04.662086",
          "status": "completed"
        },
        "tags": [],
        "id": "90cf8751",
        "outputId": "3d1bc904-263c-49e1-c8da-700638975dd9"
      },
      "outputs": [
        {
          "data": {
            "text/plain": [
              "year\n",
              "2011    280315\n",
              "2010     19988\n",
              "Name: count, dtype: int64"
            ]
          },
          "execution_count": 30,
          "metadata": {},
          "output_type": "execute_result"
        }
      ],
      "source": [
        "data['year'].value_counts()"
      ]
    },
    {
      "cell_type": "code",
      "execution_count": null,
      "id": "4175d677",
      "metadata": {
        "execution": {
          "iopub.execute_input": "2024-10-07T19:40:04.799486Z",
          "iopub.status.busy": "2024-10-07T19:40:04.799067Z",
          "iopub.status.idle": "2024-10-07T19:40:04.810098Z",
          "shell.execute_reply": "2024-10-07T19:40:04.809000Z"
        },
        "papermill": {
          "duration": 0.055287,
          "end_time": "2024-10-07T19:40:04.812617",
          "exception": false,
          "start_time": "2024-10-07T19:40:04.757330",
          "status": "completed"
        },
        "tags": [],
        "id": "4175d677",
        "outputId": "36dab1b1-5b86-4c37-9107-285e326792eb"
      },
      "outputs": [
        {
          "data": {
            "text/plain": [
              "Day\n",
              "6     14276\n",
              "8     12169\n",
              "5     12160\n",
              "7     11568\n",
              "4     11255\n",
              "13    11188\n",
              "23    11099\n",
              "20    11040\n",
              "10    10814\n",
              "17    10786\n",
              "14    10494\n",
              "1     10333\n",
              "28     9939\n",
              "16     9934\n",
              "27     9783\n",
              "9      9693\n",
              "11     9599\n",
              "21     9508\n",
              "22     9505\n",
              "18     9488\n",
              "2      9224\n",
              "25     9155\n",
              "24     9144\n",
              "15     8537\n",
              "3      8305\n",
              "12     7943\n",
              "30     7853\n",
              "19     7442\n",
              "26     6609\n",
              "29     6588\n",
              "31     4872\n",
              "Name: count, dtype: int64"
            ]
          },
          "execution_count": 31,
          "metadata": {},
          "output_type": "execute_result"
        }
      ],
      "source": [
        "data['Day'].value_counts()"
      ]
    },
    {
      "cell_type": "markdown",
      "id": "33eb1ecf",
      "metadata": {
        "papermill": {
          "duration": 0.040168,
          "end_time": "2024-10-07T19:40:04.893464",
          "exception": false,
          "start_time": "2024-10-07T19:40:04.853296",
          "status": "completed"
        },
        "tags": [],
        "id": "33eb1ecf"
      },
      "source": [
        "# Hourly Sales Visualization:"
      ]
    },
    {
      "cell_type": "code",
      "execution_count": null,
      "id": "b0775c47",
      "metadata": {
        "execution": {
          "iopub.execute_input": "2024-10-07T19:40:04.976018Z",
          "iopub.status.busy": "2024-10-07T19:40:04.975637Z",
          "iopub.status.idle": "2024-10-07T19:40:05.375145Z",
          "shell.execute_reply": "2024-10-07T19:40:05.373997Z"
        },
        "papermill": {
          "duration": 0.443628,
          "end_time": "2024-10-07T19:40:05.377654",
          "exception": false,
          "start_time": "2024-10-07T19:40:04.934026",
          "status": "completed"
        },
        "tags": [],
        "id": "b0775c47",
        "outputId": "f649d38b-7bac-4949-b841-257036a6139f"
      },
      "outputs": [
        {
          "data": {
            "text/plain": [
              "<Axes: title={'center': 'Hourly Sales'}, xlabel='Hour', ylabel='Quantity'>"
            ]
          },
          "execution_count": 32,
          "metadata": {},
          "output_type": "execute_result"
        },
        {
          "data": {
            "image/png": "[encoded data removed]",
            "text/plain": [
              "<Figure size 1000x500 with 1 Axes>"
            ]
          },
          "metadata": {},
          "output_type": "display_data"
        }
      ],
      "source": [
        "import matplotlib.pyplot as plt\n",
        "import seaborn as sns\n",
        "hourly_sales = data[['Hour', 'Quantity']].groupby('Hour').sum()\n",
        "plt.figure(figsize=(10,5))\n",
        "plt.title(\"Hourly Sales\", fontsize=10)\n",
        "sns.barplot(x=hourly_sales.index, y=hourly_sales['Quantity'])"
      ]
    },
    {
      "cell_type": "markdown",
      "id": "d502fcbc",
      "metadata": {
        "papermill": {
          "duration": 0.041002,
          "end_time": "2024-10-07T19:40:05.460452",
          "exception": false,
          "start_time": "2024-10-07T19:40:05.419450",
          "status": "completed"
        },
        "tags": [],
        "id": "d502fcbc"
      },
      "source": [
        "most of the sales are in between 9am to 3pm"
      ]
    },
    {
      "cell_type": "markdown",
      "id": "b6face3c",
      "metadata": {
        "papermill": {
          "duration": 0.041118,
          "end_time": "2024-10-07T19:40:05.542646",
          "exception": false,
          "start_time": "2024-10-07T19:40:05.501528",
          "status": "completed"
        },
        "tags": [],
        "id": "b6face3c"
      },
      "source": [
        "# Daily Sales Visualization:"
      ]
    },
    {
      "cell_type": "code",
      "execution_count": null,
      "id": "a660f0ac",
      "metadata": {
        "execution": {
          "iopub.execute_input": "2024-10-07T19:40:05.628887Z",
          "iopub.status.busy": "2024-10-07T19:40:05.628441Z",
          "iopub.status.idle": "2024-10-07T19:40:06.236697Z",
          "shell.execute_reply": "2024-10-07T19:40:06.235443Z"
        },
        "papermill": {
          "duration": 0.65396,
          "end_time": "2024-10-07T19:40:06.239292",
          "exception": false,
          "start_time": "2024-10-07T19:40:05.585332",
          "status": "completed"
        },
        "tags": [],
        "id": "a660f0ac",
        "outputId": "ed534358-b854-428d-81d7-43c7b272bbf4"
      },
      "outputs": [
        {
          "data": {
            "text/plain": [
              "<Axes: title={'center': 'Daily Sales'}, xlabel='Day', ylabel='Quantity'>"
            ]
          },
          "execution_count": 33,
          "metadata": {},
          "output_type": "execute_result"
        },
        {
          "data": {
            "image/png": "[encoded data removed]",
            "text/plain": [
              "<Figure size 1000x500 with 1 Axes>"
            ]
          },
          "metadata": {},
          "output_type": "display_data"
        }
      ],
      "source": [
        "daily_sales = data[['Day', 'Quantity']].groupby('Day').sum()\n",
        "plt.figure(figsize=(10,5))\n",
        "plt.title(\"Daily Sales\", fontsize=10)\n",
        "sns.barplot(x=daily_sales.index, y=daily_sales['Quantity'])"
      ]
    },
    {
      "cell_type": "markdown",
      "id": "a3ff24cd",
      "metadata": {
        "papermill": {
          "duration": 0.041889,
          "end_time": "2024-10-07T19:40:06.325811",
          "exception": false,
          "start_time": "2024-10-07T19:40:06.283922",
          "status": "completed"
        },
        "tags": [],
        "id": "a3ff24cd"
      },
      "source": [
        "# Monthly Sales Visualization:"
      ]
    },
    {
      "cell_type": "code",
      "execution_count": null,
      "id": "1bfb4e14",
      "metadata": {
        "execution": {
          "iopub.execute_input": "2024-10-07T19:40:06.414148Z",
          "iopub.status.busy": "2024-10-07T19:40:06.413369Z",
          "iopub.status.idle": "2024-10-07T19:40:06.823664Z",
          "shell.execute_reply": "2024-10-07T19:40:06.822539Z"
        },
        "papermill": {
          "duration": 0.458485,
          "end_time": "2024-10-07T19:40:06.825984",
          "exception": false,
          "start_time": "2024-10-07T19:40:06.367499",
          "status": "completed"
        },
        "tags": [],
        "id": "1bfb4e14",
        "outputId": "36139f1c-8353-4ad0-da24-1bfb8bd321d6"
      },
      "outputs": [
        {
          "data": {
            "text/plain": [
              "<Axes: title={'center': 'Monthly Sales'}, xlabel='Month', ylabel='Quantity'>"
            ]
          },
          "execution_count": 34,
          "metadata": {},
          "output_type": "execute_result"
        },
        {
          "data": {
            "image/png": "[encoded data removed]",
            "text/plain": [
              "<Figure size 1000x500 with 1 Axes>"
            ]
          },
          "metadata": {},
          "output_type": "display_data"
        }
      ],
      "source": [
        "monthly_sales = data[['Month', 'Quantity']].groupby('Month').sum()\n",
        "plt.figure(figsize=(10,5))\n",
        "plt.title(\"Monthly Sales\", fontsize=10)\n",
        "sns.barplot(x=monthly_sales.index, y=monthly_sales['Quantity'])"
      ]
    },
    {
      "cell_type": "markdown",
      "id": "74c0d343",
      "metadata": {
        "papermill": {
          "duration": 0.04207,
          "end_time": "2024-10-07T19:40:06.910631",
          "exception": false,
          "start_time": "2024-10-07T19:40:06.868561",
          "status": "completed"
        },
        "tags": [],
        "id": "74c0d343"
      },
      "source": [
        "sales are high in the month of september to december"
      ]
    },
    {
      "cell_type": "markdown",
      "id": "d94172f1",
      "metadata": {
        "papermill": {
          "duration": 0.041961,
          "end_time": "2024-10-07T19:40:06.995030",
          "exception": false,
          "start_time": "2024-10-07T19:40:06.953069",
          "status": "completed"
        },
        "tags": [],
        "id": "d94172f1"
      },
      "source": [
        "# Finding repeated customers with their CustomerID:"
      ]
    },
    {
      "cell_type": "code",
      "execution_count": null,
      "id": "320b55ad",
      "metadata": {
        "execution": {
          "iopub.execute_input": "2024-10-07T19:40:07.081667Z",
          "iopub.status.busy": "2024-10-07T19:40:07.081263Z",
          "iopub.status.idle": "2024-10-07T19:40:07.099073Z",
          "shell.execute_reply": "2024-10-07T19:40:07.097924Z"
        },
        "papermill": {
          "duration": 0.064061,
          "end_time": "2024-10-07T19:40:07.101637",
          "exception": false,
          "start_time": "2024-10-07T19:40:07.037576",
          "status": "completed"
        },
        "tags": [],
        "id": "320b55ad",
        "outputId": "4912e8fd-b631-419e-b74e-9d8bbebc1c23"
      },
      "outputs": [
        {
          "data": {
            "text/plain": [
              "CustomerID\n",
              "17841.0    7209\n",
              "14096.0    4415\n",
              "12748.0    4047\n",
              "14606.0    2425\n",
              "15311.0    1912\n",
              "           ... \n",
              "16429.0       1\n",
              "18058.0       1\n",
              "14816.0       1\n",
              "13877.0       1\n",
              "14199.0       1\n",
              "Name: count, Length: 3784, dtype: int64"
            ]
          },
          "execution_count": 35,
          "metadata": {},
          "output_type": "execute_result"
        }
      ],
      "source": [
        "data.CustomerID.value_counts()"
      ]
    },
    {
      "cell_type": "markdown",
      "id": "eb9445d7",
      "metadata": {
        "papermill": {
          "duration": 0.043756,
          "end_time": "2024-10-07T19:40:07.187873",
          "exception": false,
          "start_time": "2024-10-07T19:40:07.144117",
          "status": "completed"
        },
        "tags": [],
        "id": "eb9445d7"
      },
      "source": [
        "# Extracting Features:"
      ]
    },
    {
      "cell_type": "code",
      "execution_count": null,
      "id": "9726c937",
      "metadata": {
        "execution": {
          "iopub.execute_input": "2024-10-07T19:40:07.276185Z",
          "iopub.status.busy": "2024-10-07T19:40:07.275280Z",
          "iopub.status.idle": "2024-10-07T19:40:07.304012Z",
          "shell.execute_reply": "2024-10-07T19:40:07.302892Z"
        },
        "papermill": {
          "duration": 0.075997,
          "end_time": "2024-10-07T19:40:07.306726",
          "exception": false,
          "start_time": "2024-10-07T19:40:07.230729",
          "status": "completed"
        },
        "tags": [],
        "id": "9726c937",
        "outputId": "841b947a-d734-486c-fff2-9400267e3fb4"
      },
      "outputs": [
        {
          "data": {
            "text/html": [
              "<div>\n",
              "<style scoped>\n",
              "    .dataframe tbody tr th:only-of-type {\n",
              "        vertical-align: middle;\n",
              "    }\n",
              "\n",
              "    .dataframe tbody tr th {\n",
              "        vertical-align: top;\n",
              "    }\n",
              "\n",
              "    .dataframe thead th {\n",
              "        text-align: right;\n",
              "    }\n",
              "</style>\n",
              "<table border=\"1\" class=\"dataframe\">\n",
              "  <thead>\n",
              "    <tr style=\"text-align: right;\">\n",
              "      <th></th>\n",
              "      <th>CustomerID</th>\n",
              "      <th>Description</th>\n",
              "      <th>Quantity</th>\n",
              "      <th>UnitPrice</th>\n",
              "      <th>Month</th>\n",
              "      <th>Day</th>\n",
              "    </tr>\n",
              "  </thead>\n",
              "  <tbody>\n",
              "    <tr>\n",
              "      <th>0</th>\n",
              "      <td>17850.0</td>\n",
              "      <td>WHITE HANGING HEART T-LIGHT HOLDER</td>\n",
              "      <td>6</td>\n",
              "      <td>2.55</td>\n",
              "      <td>12</td>\n",
              "      <td>1</td>\n",
              "    </tr>\n",
              "    <tr>\n",
              "      <th>1</th>\n",
              "      <td>17850.0</td>\n",
              "      <td>WHITE METAL LANTERN</td>\n",
              "      <td>6</td>\n",
              "      <td>3.39</td>\n",
              "      <td>12</td>\n",
              "      <td>1</td>\n",
              "    </tr>\n",
              "    <tr>\n",
              "      <th>2</th>\n",
              "      <td>17850.0</td>\n",
              "      <td>CREAM CUPID HEARTS COAT HANGER</td>\n",
              "      <td>8</td>\n",
              "      <td>2.75</td>\n",
              "      <td>12</td>\n",
              "      <td>1</td>\n",
              "    </tr>\n",
              "    <tr>\n",
              "      <th>3</th>\n",
              "      <td>17850.0</td>\n",
              "      <td>KNITTED UNION FLAG HOT WATER BOTTLE</td>\n",
              "      <td>6</td>\n",
              "      <td>3.39</td>\n",
              "      <td>12</td>\n",
              "      <td>1</td>\n",
              "    </tr>\n",
              "    <tr>\n",
              "      <th>4</th>\n",
              "      <td>17850.0</td>\n",
              "      <td>RED WOOLLY HOTTIE WHITE HEART.</td>\n",
              "      <td>6</td>\n",
              "      <td>3.39</td>\n",
              "      <td>12</td>\n",
              "      <td>1</td>\n",
              "    </tr>\n",
              "    <tr>\n",
              "      <th>...</th>\n",
              "      <td>...</td>\n",
              "      <td>...</td>\n",
              "      <td>...</td>\n",
              "      <td>...</td>\n",
              "      <td>...</td>\n",
              "      <td>...</td>\n",
              "    </tr>\n",
              "    <tr>\n",
              "      <th>300298</th>\n",
              "      <td>15804.0</td>\n",
              "      <td>ZINC T-LIGHT HOLDER STAR LARGE</td>\n",
              "      <td>12</td>\n",
              "      <td>0.95</td>\n",
              "      <td>12</td>\n",
              "      <td>9</td>\n",
              "    </tr>\n",
              "    <tr>\n",
              "      <th>300299</th>\n",
              "      <td>15804.0</td>\n",
              "      <td>FAIRY TALE COTTAGE NIGHT LIGHT</td>\n",
              "      <td>12</td>\n",
              "      <td>1.95</td>\n",
              "      <td>12</td>\n",
              "      <td>9</td>\n",
              "    </tr>\n",
              "    <tr>\n",
              "      <th>300300</th>\n",
              "      <td>13113.0</td>\n",
              "      <td>LARGE CAKE STAND  HANGING STRAWBERY</td>\n",
              "      <td>8</td>\n",
              "      <td>2.95</td>\n",
              "      <td>12</td>\n",
              "      <td>9</td>\n",
              "    </tr>\n",
              "    <tr>\n",
              "      <th>300301</th>\n",
              "      <td>13113.0</td>\n",
              "      <td>SET OF 3 HANGING OWLS OLLIE BEAK</td>\n",
              "      <td>24</td>\n",
              "      <td>1.25</td>\n",
              "      <td>12</td>\n",
              "      <td>9</td>\n",
              "    </tr>\n",
              "    <tr>\n",
              "      <th>300302</th>\n",
              "      <td>13113.0</td>\n",
              "      <td>DOORMAT RED RETROSPOT</td>\n",
              "      <td>10</td>\n",
              "      <td>7.08</td>\n",
              "      <td>12</td>\n",
              "      <td>9</td>\n",
              "    </tr>\n",
              "  </tbody>\n",
              "</table>\n",
              "<p>300303 rows × 6 columns</p>\n",
              "</div>"
            ],
            "text/plain": [
              "        CustomerID                          Description  Quantity  UnitPrice  \\\n",
              "0          17850.0   WHITE HANGING HEART T-LIGHT HOLDER         6       2.55   \n",
              "1          17850.0                  WHITE METAL LANTERN         6       3.39   \n",
              "2          17850.0       CREAM CUPID HEARTS COAT HANGER         8       2.75   \n",
              "3          17850.0  KNITTED UNION FLAG HOT WATER BOTTLE         6       3.39   \n",
              "4          17850.0       RED WOOLLY HOTTIE WHITE HEART.         6       3.39   \n",
              "...            ...                                  ...       ...        ...   \n",
              "300298     15804.0       ZINC T-LIGHT HOLDER STAR LARGE        12       0.95   \n",
              "300299     15804.0       FAIRY TALE COTTAGE NIGHT LIGHT        12       1.95   \n",
              "300300     13113.0  LARGE CAKE STAND  HANGING STRAWBERY         8       2.95   \n",
              "300301     13113.0     SET OF 3 HANGING OWLS OLLIE BEAK        24       1.25   \n",
              "300302     13113.0                DOORMAT RED RETROSPOT        10       7.08   \n",
              "\n",
              "        Month  Day  \n",
              "0          12    1  \n",
              "1          12    1  \n",
              "2          12    1  \n",
              "3          12    1  \n",
              "4          12    1  \n",
              "...       ...  ...  \n",
              "300298     12    9  \n",
              "300299     12    9  \n",
              "300300     12    9  \n",
              "300301     12    9  \n",
              "300302     12    9  \n",
              "\n",
              "[300303 rows x 6 columns]"
            ]
          },
          "execution_count": 36,
          "metadata": {},
          "output_type": "execute_result"
        }
      ],
      "source": [
        "data = pd.DataFrame(data[['CustomerID','Description','Quantity','UnitPrice','Month','Day']])\n",
        "data"
      ]
    },
    {
      "cell_type": "markdown",
      "id": "f9291bda",
      "metadata": {
        "papermill": {
          "duration": 0.042674,
          "end_time": "2024-10-07T19:40:07.393029",
          "exception": false,
          "start_time": "2024-10-07T19:40:07.350355",
          "status": "completed"
        },
        "tags": [],
        "id": "f9291bda"
      },
      "source": [
        "# LabelEncoding:"
      ]
    },
    {
      "cell_type": "code",
      "execution_count": null,
      "id": "5d1ed7b4",
      "metadata": {
        "execution": {
          "iopub.execute_input": "2024-10-07T19:40:07.481904Z",
          "iopub.status.busy": "2024-10-07T19:40:07.481523Z",
          "iopub.status.idle": "2024-10-07T19:40:07.772109Z",
          "shell.execute_reply": "2024-10-07T19:40:07.771029Z"
        },
        "papermill": {
          "duration": 0.337867,
          "end_time": "2024-10-07T19:40:07.774933",
          "exception": false,
          "start_time": "2024-10-07T19:40:07.437066",
          "status": "completed"
        },
        "tags": [],
        "id": "5d1ed7b4"
      },
      "outputs": [],
      "source": [
        "from sklearn import preprocessing\n",
        "encoder = preprocessing.LabelEncoder()\n",
        "data['Description'] = encoder.fit_transform(data['Description'])"
      ]
    },
    {
      "cell_type": "code",
      "execution_count": null,
      "id": "d83d7ab3",
      "metadata": {
        "execution": {
          "iopub.execute_input": "2024-10-07T19:40:07.863414Z",
          "iopub.status.busy": "2024-10-07T19:40:07.862397Z",
          "iopub.status.idle": "2024-10-07T19:40:07.876339Z",
          "shell.execute_reply": "2024-10-07T19:40:07.875153Z"
        },
        "papermill": {
          "duration": 0.061414,
          "end_time": "2024-10-07T19:40:07.878969",
          "exception": false,
          "start_time": "2024-10-07T19:40:07.817555",
          "status": "completed"
        },
        "tags": [],
        "id": "d83d7ab3",
        "outputId": "b4b06c6e-6712-446e-9760-c6e995c979ac"
      },
      "outputs": [
        {
          "data": {
            "text/html": [
              "<div>\n",
              "<style scoped>\n",
              "    .dataframe tbody tr th:only-of-type {\n",
              "        vertical-align: middle;\n",
              "    }\n",
              "\n",
              "    .dataframe tbody tr th {\n",
              "        vertical-align: top;\n",
              "    }\n",
              "\n",
              "    .dataframe thead th {\n",
              "        text-align: right;\n",
              "    }\n",
              "</style>\n",
              "<table border=\"1\" class=\"dataframe\">\n",
              "  <thead>\n",
              "    <tr style=\"text-align: right;\">\n",
              "      <th></th>\n",
              "      <th>CustomerID</th>\n",
              "      <th>Description</th>\n",
              "      <th>Quantity</th>\n",
              "      <th>UnitPrice</th>\n",
              "      <th>Month</th>\n",
              "      <th>Day</th>\n",
              "    </tr>\n",
              "  </thead>\n",
              "  <tbody>\n",
              "    <tr>\n",
              "      <th>0</th>\n",
              "      <td>17850.0</td>\n",
              "      <td>3386</td>\n",
              "      <td>6</td>\n",
              "      <td>2.55</td>\n",
              "      <td>12</td>\n",
              "      <td>1</td>\n",
              "    </tr>\n",
              "    <tr>\n",
              "      <th>1</th>\n",
              "      <td>17850.0</td>\n",
              "      <td>3394</td>\n",
              "      <td>6</td>\n",
              "      <td>3.39</td>\n",
              "      <td>12</td>\n",
              "      <td>1</td>\n",
              "    </tr>\n",
              "    <tr>\n",
              "      <th>2</th>\n",
              "      <td>17850.0</td>\n",
              "      <td>772</td>\n",
              "      <td>8</td>\n",
              "      <td>2.75</td>\n",
              "      <td>12</td>\n",
              "      <td>1</td>\n",
              "    </tr>\n",
              "    <tr>\n",
              "      <th>3</th>\n",
              "      <td>17850.0</td>\n",
              "      <td>1650</td>\n",
              "      <td>6</td>\n",
              "      <td>3.39</td>\n",
              "      <td>12</td>\n",
              "      <td>1</td>\n",
              "    </tr>\n",
              "    <tr>\n",
              "      <th>4</th>\n",
              "      <td>17850.0</td>\n",
              "      <td>2534</td>\n",
              "      <td>6</td>\n",
              "      <td>3.39</td>\n",
              "      <td>12</td>\n",
              "      <td>1</td>\n",
              "    </tr>\n",
              "  </tbody>\n",
              "</table>\n",
              "</div>"
            ],
            "text/plain": [
              "   CustomerID  Description  Quantity  UnitPrice  Month  Day\n",
              "0     17850.0         3386         6       2.55     12    1\n",
              "1     17850.0         3394         6       3.39     12    1\n",
              "2     17850.0          772         8       2.75     12    1\n",
              "3     17850.0         1650         6       3.39     12    1\n",
              "4     17850.0         2534         6       3.39     12    1"
            ]
          },
          "execution_count": 38,
          "metadata": {},
          "output_type": "execute_result"
        }
      ],
      "source": [
        "data.head()"
      ]
    },
    {
      "cell_type": "markdown",
      "id": "18eb1a2e",
      "metadata": {
        "papermill": {
          "duration": 0.042406,
          "end_time": "2024-10-07T19:40:07.964286",
          "exception": false,
          "start_time": "2024-10-07T19:40:07.921880",
          "status": "completed"
        },
        "tags": [],
        "id": "18eb1a2e"
      },
      "source": [
        "# Heatmap:"
      ]
    },
    {
      "cell_type": "code",
      "execution_count": null,
      "id": "bcb54ebf",
      "metadata": {
        "execution": {
          "iopub.execute_input": "2024-10-07T19:40:08.051550Z",
          "iopub.status.busy": "2024-10-07T19:40:08.051126Z",
          "iopub.status.idle": "2024-10-07T19:40:08.685995Z",
          "shell.execute_reply": "2024-10-07T19:40:08.684871Z"
        },
        "papermill": {
          "duration": 0.681501,
          "end_time": "2024-10-07T19:40:08.688605",
          "exception": false,
          "start_time": "2024-10-07T19:40:08.007104",
          "status": "completed"
        },
        "tags": [],
        "id": "bcb54ebf",
        "outputId": "fef8f8d5-f45e-4e24-82c8-d54253447e83"
      },
      "outputs": [
        {
          "data": {
            "image/png": "[encoded data removed]",
            "text/plain": [
              "<Figure size 1500x800 with 2 Axes>"
            ]
          },
          "metadata": {},
          "output_type": "display_data"
        }
      ],
      "source": [
        "# Correlation between features of dataset\n",
        "plt.figure(figsize=(15,8))\n",
        "corr = data.corr()\n",
        "sns.heatmap(corr,vmax=1.0,annot=True)\n",
        "plt.title('Correlation Matrix',fontsize=16)\n",
        "plt.show()"
      ]
    },
    {
      "cell_type": "markdown",
      "id": "8e7a9022",
      "metadata": {
        "papermill": {
          "duration": 0.044456,
          "end_time": "2024-10-07T19:40:08.777645",
          "exception": false,
          "start_time": "2024-10-07T19:40:08.733189",
          "status": "completed"
        },
        "tags": [],
        "id": "8e7a9022"
      },
      "source": [
        "# Data Scaling:"
      ]
    },
    {
      "cell_type": "markdown",
      "id": "d4820f6e",
      "metadata": {
        "papermill": {
          "duration": 0.043975,
          "end_time": "2024-10-07T19:40:08.866258",
          "exception": false,
          "start_time": "2024-10-07T19:40:08.822283",
          "status": "completed"
        },
        "tags": [],
        "id": "d4820f6e"
      },
      "source": [
        "StandardScaler removes the mean and scales each feature/variable to unit variance. This operation is performed feature-wise in an independent way. StandardScaler can be influenced by outliers (if they exist in the dataset) since it involves the estimation of the empirical mean and standard deviation of each feature."
      ]
    },
    {
      "cell_type": "code",
      "execution_count": null,
      "id": "c46c0937",
      "metadata": {
        "execution": {
          "iopub.execute_input": "2024-10-07T19:40:08.957642Z",
          "iopub.status.busy": "2024-10-07T19:40:08.957230Z",
          "iopub.status.idle": "2024-10-07T19:40:08.997585Z",
          "shell.execute_reply": "2024-10-07T19:40:08.996451Z"
        },
        "papermill": {
          "duration": 0.089572,
          "end_time": "2024-10-07T19:40:09.000146",
          "exception": false,
          "start_time": "2024-10-07T19:40:08.910574",
          "status": "completed"
        },
        "tags": [],
        "id": "c46c0937",
        "outputId": "56bb81fd-e26c-4feb-8a79-996dd785385e"
      },
      "outputs": [
        {
          "data": {
            "text/plain": [
              "array([[ 1.43654718,  1.55624988, -0.17641212,  0.2325403 ,  1.26649333,\n",
              "        -1.61783842],\n",
              "       [ 1.43654718,  1.56432496, -0.17641212,  0.7754766 ,  1.26649333,\n",
              "        -1.61783842],\n",
              "       [ 1.43654718, -1.08228295,  0.12263412,  0.36181085,  1.26649333,\n",
              "        -1.61783842],\n",
              "       ...,\n",
              "       [-1.5351198 , -0.180902  ,  0.12263412,  0.4910814 ,  1.26649333,\n",
              "        -0.69670427],\n",
              "       [-1.5351198 ,  0.91730907,  2.51500408, -0.60771827,  1.26649333,\n",
              "        -0.69670427],\n",
              "       [-1.5351198 , -0.93390333,  0.42168037,  3.16051823,  1.26649333,\n",
              "        -0.69670427]])"
            ]
          },
          "execution_count": 40,
          "metadata": {},
          "output_type": "execute_result"
        }
      ],
      "source": [
        "import sklearn\n",
        "from sklearn.preprocessing import StandardScaler\n",
        "scaler = StandardScaler()\n",
        "data_scaled = scaler.fit_transform(data)\n",
        "data_scaled"
      ]
    },
    {
      "cell_type": "code",
      "execution_count": null,
      "id": "1f29e643",
      "metadata": {
        "execution": {
          "iopub.execute_input": "2024-10-07T19:40:09.095779Z",
          "iopub.status.busy": "2024-10-07T19:40:09.095361Z",
          "iopub.status.idle": "2024-10-07T19:40:09.112869Z",
          "shell.execute_reply": "2024-10-07T19:40:09.111436Z"
        },
        "papermill": {
          "duration": 0.070941,
          "end_time": "2024-10-07T19:40:09.115875",
          "exception": false,
          "start_time": "2024-10-07T19:40:09.044934",
          "status": "completed"
        },
        "tags": [],
        "id": "1f29e643",
        "outputId": "361d9be3-dcff-41be-ac6f-41c178a37860"
      },
      "outputs": [
        {
          "data": {
            "text/html": [
              "<div>\n",
              "<style scoped>\n",
              "    .dataframe tbody tr th:only-of-type {\n",
              "        vertical-align: middle;\n",
              "    }\n",
              "\n",
              "    .dataframe tbody tr th {\n",
              "        vertical-align: top;\n",
              "    }\n",
              "\n",
              "    .dataframe thead th {\n",
              "        text-align: right;\n",
              "    }\n",
              "</style>\n",
              "<table border=\"1\" class=\"dataframe\">\n",
              "  <thead>\n",
              "    <tr style=\"text-align: right;\">\n",
              "      <th></th>\n",
              "      <th>CustomerID</th>\n",
              "      <th>Description</th>\n",
              "      <th>Quantity</th>\n",
              "      <th>UnitPrice</th>\n",
              "      <th>Month</th>\n",
              "      <th>Day</th>\n",
              "    </tr>\n",
              "  </thead>\n",
              "  <tbody>\n",
              "    <tr>\n",
              "      <th>0</th>\n",
              "      <td>1.436547</td>\n",
              "      <td>1.556250</td>\n",
              "      <td>-0.176412</td>\n",
              "      <td>0.232540</td>\n",
              "      <td>1.266493</td>\n",
              "      <td>-1.617838</td>\n",
              "    </tr>\n",
              "    <tr>\n",
              "      <th>1</th>\n",
              "      <td>1.436547</td>\n",
              "      <td>1.564325</td>\n",
              "      <td>-0.176412</td>\n",
              "      <td>0.775477</td>\n",
              "      <td>1.266493</td>\n",
              "      <td>-1.617838</td>\n",
              "    </tr>\n",
              "    <tr>\n",
              "      <th>2</th>\n",
              "      <td>1.436547</td>\n",
              "      <td>-1.082283</td>\n",
              "      <td>0.122634</td>\n",
              "      <td>0.361811</td>\n",
              "      <td>1.266493</td>\n",
              "      <td>-1.617838</td>\n",
              "    </tr>\n",
              "    <tr>\n",
              "      <th>3</th>\n",
              "      <td>1.436547</td>\n",
              "      <td>-0.196043</td>\n",
              "      <td>-0.176412</td>\n",
              "      <td>0.775477</td>\n",
              "      <td>1.266493</td>\n",
              "      <td>-1.617838</td>\n",
              "    </tr>\n",
              "    <tr>\n",
              "      <th>4</th>\n",
              "      <td>1.436547</td>\n",
              "      <td>0.696254</td>\n",
              "      <td>-0.176412</td>\n",
              "      <td>0.775477</td>\n",
              "      <td>1.266493</td>\n",
              "      <td>-1.617838</td>\n",
              "    </tr>\n",
              "  </tbody>\n",
              "</table>\n",
              "</div>"
            ],
            "text/plain": [
              "   CustomerID  Description  Quantity  UnitPrice     Month       Day\n",
              "0    1.436547     1.556250 -0.176412   0.232540  1.266493 -1.617838\n",
              "1    1.436547     1.564325 -0.176412   0.775477  1.266493 -1.617838\n",
              "2    1.436547    -1.082283  0.122634   0.361811  1.266493 -1.617838\n",
              "3    1.436547    -0.196043 -0.176412   0.775477  1.266493 -1.617838\n",
              "4    1.436547     0.696254 -0.176412   0.775477  1.266493 -1.617838"
            ]
          },
          "execution_count": 41,
          "metadata": {},
          "output_type": "execute_result"
        }
      ],
      "source": [
        "data_scaled = pd.DataFrame(data_scaled, columns = ['CustomerID','Description','Quantity','UnitPrice','Month','Day'])\n",
        "data_scaled.head()"
      ]
    },
    {
      "cell_type": "markdown",
      "id": "db2eeb21",
      "metadata": {
        "papermill": {
          "duration": 0.04713,
          "end_time": "2024-10-07T19:40:09.208058",
          "exception": false,
          "start_time": "2024-10-07T19:40:09.160928",
          "status": "completed"
        },
        "tags": [],
        "id": "db2eeb21"
      },
      "source": [
        "# Segment the customers based on their purchasing behavior with KMeans clustering:\n"
      ]
    },
    {
      "cell_type": "markdown",
      "id": "191a0e87",
      "metadata": {
        "papermill": {
          "duration": 0.055503,
          "end_time": "2024-10-07T19:40:09.323110",
          "exception": false,
          "start_time": "2024-10-07T19:40:09.267607",
          "status": "completed"
        },
        "tags": [],
        "id": "191a0e87"
      },
      "source": [
        "k-means clustering is a method of vector quantization, originally from signal processing, that aims to partition n observations into k clusters in which each observation belongs to the cluster with the nearest mean (cluster centers or cluster centroid), serving as a prototype of the cluster."
      ]
    },
    {
      "cell_type": "markdown",
      "id": "c0e21c9a",
      "metadata": {
        "papermill": {
          "duration": 0.044183,
          "end_time": "2024-10-07T19:40:09.411738",
          "exception": false,
          "start_time": "2024-10-07T19:40:09.367555",
          "status": "completed"
        },
        "tags": [],
        "id": "c0e21c9a"
      },
      "source": [
        "# Elbow Method:"
      ]
    },
    {
      "cell_type": "code",
      "execution_count": null,
      "id": "0e68e77c",
      "metadata": {
        "execution": {
          "iopub.execute_input": "2024-10-07T19:40:09.504185Z",
          "iopub.status.busy": "2024-10-07T19:40:09.503800Z",
          "iopub.status.idle": "2024-10-07T19:40:30.669560Z",
          "shell.execute_reply": "2024-10-07T19:40:30.668454Z"
        },
        "papermill": {
          "duration": 21.214413,
          "end_time": "2024-10-07T19:40:30.672072",
          "exception": false,
          "start_time": "2024-10-07T19:40:09.457659",
          "status": "completed"
        },
        "tags": [],
        "id": "0e68e77c",
        "outputId": "ce747768-5d6d-4fbe-cd57-5b08c1c19d53"
      },
      "outputs": [
        {
          "data": {
            "image/png": "[encoded data removed]",
            "text/plain": [
              "<Figure size 640x480 with 1 Axes>"
            ]
          },
          "metadata": {},
          "output_type": "display_data"
        }
      ],
      "source": [
        "from sklearn.cluster import KMeans\n",
        "clusters=list(range(2,8))\n",
        "ssd = []\n",
        "for num_clusters in clusters:\n",
        "    model_clus = KMeans(n_clusters = num_clusters, max_iter=60,random_state= 50)\n",
        "    model_clus.fit(data_scaled)\n",
        "    ssd.append(model_clus.inertia_)\n",
        "\n",
        "plt.plot(clusters,ssd);"
      ]
    },
    {
      "cell_type": "code",
      "execution_count": null,
      "id": "d087b86c",
      "metadata": {
        "execution": {
          "iopub.execute_input": "2024-10-07T19:40:30.764627Z",
          "iopub.status.busy": "2024-10-07T19:40:30.764181Z",
          "iopub.status.idle": "2024-10-07T19:40:33.722205Z",
          "shell.execute_reply": "2024-10-07T19:40:33.721034Z"
        },
        "papermill": {
          "duration": 3.006774,
          "end_time": "2024-10-07T19:40:33.724888",
          "exception": false,
          "start_time": "2024-10-07T19:40:30.718114",
          "status": "completed"
        },
        "tags": [],
        "id": "d087b86c",
        "outputId": "2efd0f9b-06df-41ce-fe51-922af862e8a1"
      },
      "outputs": [
        {
          "data": {
            "text/html": [
              "<style>#sk-container-id-1 {color: black;background-color: white;}#sk-container-id-1 pre{padding: 0;}#sk-container-id-1 div.sk-toggleable {background-color: white;}#sk-container-id-1 label.sk-toggleable__label {cursor: pointer;display: block;width: 100%;margin-bottom: 0;padding: 0.3em;box-sizing: border-box;text-align: center;}#sk-container-id-1 label.sk-toggleable__label-arrow:before {content: \"▸\";float: left;margin-right: 0.25em;color: #696969;}#sk-container-id-1 label.sk-toggleable__label-arrow:hover:before {color: black;}#sk-container-id-1 div.sk-estimator:hover label.sk-toggleable__label-arrow:before {color: black;}#sk-container-id-1 div.sk-toggleable__content {max-height: 0;max-width: 0;overflow: hidden;text-align: left;background-color: #f0f8ff;}#sk-container-id-1 div.sk-toggleable__content pre {margin: 0.2em;color: black;border-radius: 0.25em;background-color: #f0f8ff;}#sk-container-id-1 input.sk-toggleable__control:checked~div.sk-toggleable__content {max-height: 200px;max-width: 100%;overflow: auto;}#sk-container-id-1 input.sk-toggleable__control:checked~label.sk-toggleable__label-arrow:before {content: \"▾\";}#sk-container-id-1 div.sk-estimator input.sk-toggleable__control:checked~label.sk-toggleable__label {background-color: #d4ebff;}#sk-container-id-1 div.sk-label input.sk-toggleable__control:checked~label.sk-toggleable__label {background-color: #d4ebff;}#sk-container-id-1 input.sk-hidden--visually {border: 0;clip: rect(1px 1px 1px 1px);clip: rect(1px, 1px, 1px, 1px);height: 1px;margin: -1px;overflow: hidden;padding: 0;position: absolute;width: 1px;}#sk-container-id-1 div.sk-estimator {font-family: monospace;background-color: #f0f8ff;border: 1px dotted black;border-radius: 0.25em;box-sizing: border-box;margin-bottom: 0.5em;}#sk-container-id-1 div.sk-estimator:hover {background-color: #d4ebff;}#sk-container-id-1 div.sk-parallel-item::after {content: \"\";width: 100%;border-bottom: 1px solid gray;flex-grow: 1;}#sk-container-id-1 div.sk-label:hover label.sk-toggleable__label {background-color: #d4ebff;}#sk-container-id-1 div.sk-serial::before {content: \"\";position: absolute;border-left: 1px solid gray;box-sizing: border-box;top: 0;bottom: 0;left: 50%;z-index: 0;}#sk-container-id-1 div.sk-serial {display: flex;flex-direction: column;align-items: center;background-color: white;padding-right: 0.2em;padding-left: 0.2em;position: relative;}#sk-container-id-1 div.sk-item {position: relative;z-index: 1;}#sk-container-id-1 div.sk-parallel {display: flex;align-items: stretch;justify-content: center;background-color: white;position: relative;}#sk-container-id-1 div.sk-item::before, #sk-container-id-1 div.sk-parallel-item::before {content: \"\";position: absolute;border-left: 1px solid gray;box-sizing: border-box;top: 0;bottom: 0;left: 50%;z-index: -1;}#sk-container-id-1 div.sk-parallel-item {display: flex;flex-direction: column;z-index: 1;position: relative;background-color: white;}#sk-container-id-1 div.sk-parallel-item:first-child::after {align-self: flex-end;width: 50%;}#sk-container-id-1 div.sk-parallel-item:last-child::after {align-self: flex-start;width: 50%;}#sk-container-id-1 div.sk-parallel-item:only-child::after {width: 0;}#sk-container-id-1 div.sk-dashed-wrapped {border: 1px dashed gray;margin: 0 0.4em 0.5em 0.4em;box-sizing: border-box;padding-bottom: 0.4em;background-color: white;}#sk-container-id-1 div.sk-label label {font-family: monospace;font-weight: bold;display: inline-block;line-height: 1.2em;}#sk-container-id-1 div.sk-label-container {text-align: center;}#sk-container-id-1 div.sk-container {/* jupyter's `normalize.less` sets `[hidden] { display: none; }` but bootstrap.min.css set `[hidden] { display: none !important; }` so we also need the `!important` here to be able to override the default hidden behavior on the sphinx rendered scikit-learn.org. See: https://github.com/scikit-learn/scikit-learn/issues/21755 */display: inline-block !important;position: relative;}#sk-container-id-1 div.sk-text-repr-fallback {display: none;}</style><div id=\"sk-container-id-1\" class=\"sk-top-container\"><div class=\"sk-text-repr-fallback\"><pre>KMeans(max_iter=60, n_clusters=5, random_state=15)</pre><b>In a Jupyter environment, please rerun this cell to show the HTML representation or trust the notebook. <br />On GitHub, the HTML representation is unable to render, please try loading this page with nbviewer.org.</b></div><div class=\"sk-container\" hidden><div class=\"sk-item\"><div class=\"sk-estimator sk-toggleable\"><input class=\"sk-toggleable__control sk-hidden--visually\" id=\"sk-estimator-id-1\" type=\"checkbox\" checked><label for=\"sk-estimator-id-1\" class=\"sk-toggleable__label sk-toggleable__label-arrow\">KMeans</label><div class=\"sk-toggleable__content\"><pre>KMeans(max_iter=60, n_clusters=5, random_state=15)</pre></div></div></div></div></div>"
            ],
            "text/plain": [
              "KMeans(max_iter=60, n_clusters=5, random_state=15)"
            ]
          },
          "execution_count": 43,
          "metadata": {},
          "output_type": "execute_result"
        }
      ],
      "source": [
        "cluster = KMeans(n_clusters=5, max_iter=60, random_state= 15)\n",
        "cluster.fit(data_scaled)"
      ]
    },
    {
      "cell_type": "code",
      "execution_count": null,
      "id": "a5d34dbf",
      "metadata": {
        "execution": {
          "iopub.execute_input": "2024-10-07T19:40:33.817108Z",
          "iopub.status.busy": "2024-10-07T19:40:33.816701Z",
          "iopub.status.idle": "2024-10-07T19:40:33.844467Z",
          "shell.execute_reply": "2024-10-07T19:40:33.843326Z"
        },
        "papermill": {
          "duration": 0.076575,
          "end_time": "2024-10-07T19:40:33.847085",
          "exception": false,
          "start_time": "2024-10-07T19:40:33.770510",
          "status": "completed"
        },
        "tags": [],
        "id": "a5d34dbf",
        "outputId": "415ce332-bdee-48a6-b158-5010aa3e2c2b"
      },
      "outputs": [
        {
          "data": {
            "text/html": [
              "<div>\n",
              "<style scoped>\n",
              "    .dataframe tbody tr th:only-of-type {\n",
              "        vertical-align: middle;\n",
              "    }\n",
              "\n",
              "    .dataframe tbody tr th {\n",
              "        vertical-align: top;\n",
              "    }\n",
              "\n",
              "    .dataframe thead th {\n",
              "        text-align: right;\n",
              "    }\n",
              "</style>\n",
              "<table border=\"1\" class=\"dataframe\">\n",
              "  <thead>\n",
              "    <tr style=\"text-align: right;\">\n",
              "      <th></th>\n",
              "      <th>CustomerID</th>\n",
              "      <th>Description</th>\n",
              "      <th>Quantity</th>\n",
              "      <th>UnitPrice</th>\n",
              "      <th>Month</th>\n",
              "      <th>Day</th>\n",
              "      <th>Cluster_Id</th>\n",
              "    </tr>\n",
              "  </thead>\n",
              "  <tbody>\n",
              "    <tr>\n",
              "      <th>69903</th>\n",
              "      <td>1.443448</td>\n",
              "      <td>1.210031</td>\n",
              "      <td>0.720727</td>\n",
              "      <td>-1.144191</td>\n",
              "      <td>-1.372852</td>\n",
              "      <td>1.836415</td>\n",
              "      <td>0</td>\n",
              "    </tr>\n",
              "    <tr>\n",
              "      <th>69579</th>\n",
              "      <td>1.132292</td>\n",
              "      <td>1.200946</td>\n",
              "      <td>-0.924028</td>\n",
              "      <td>-0.607718</td>\n",
              "      <td>-1.372852</td>\n",
              "      <td>1.836415</td>\n",
              "      <td>0</td>\n",
              "    </tr>\n",
              "    <tr>\n",
              "      <th>69603</th>\n",
              "      <td>1.132292</td>\n",
              "      <td>1.450264</td>\n",
              "      <td>-0.176412</td>\n",
              "      <td>-0.607718</td>\n",
              "      <td>-1.372852</td>\n",
              "      <td>1.836415</td>\n",
              "      <td>0</td>\n",
              "    </tr>\n",
              "    <tr>\n",
              "      <th>69605</th>\n",
              "      <td>1.132292</td>\n",
              "      <td>1.478527</td>\n",
              "      <td>-0.624981</td>\n",
              "      <td>-0.866259</td>\n",
              "      <td>-1.372852</td>\n",
              "      <td>1.836415</td>\n",
              "      <td>0</td>\n",
              "    </tr>\n",
              "    <tr>\n",
              "      <th>69614</th>\n",
              "      <td>1.132292</td>\n",
              "      <td>1.374561</td>\n",
              "      <td>-0.924028</td>\n",
              "      <td>-0.349177</td>\n",
              "      <td>-1.372852</td>\n",
              "      <td>1.836415</td>\n",
              "      <td>0</td>\n",
              "    </tr>\n",
              "    <tr>\n",
              "      <th>69763</th>\n",
              "      <td>1.430901</td>\n",
              "      <td>0.743695</td>\n",
              "      <td>-0.924028</td>\n",
              "      <td>-0.866259</td>\n",
              "      <td>-1.372852</td>\n",
              "      <td>1.836415</td>\n",
              "      <td>0</td>\n",
              "    </tr>\n",
              "    <tr>\n",
              "      <th>69771</th>\n",
              "      <td>1.430901</td>\n",
              "      <td>1.359420</td>\n",
              "      <td>-0.924028</td>\n",
              "      <td>-1.144191</td>\n",
              "      <td>-1.372852</td>\n",
              "      <td>1.836415</td>\n",
              "      <td>0</td>\n",
              "    </tr>\n",
              "    <tr>\n",
              "      <th>69787</th>\n",
              "      <td>1.430901</td>\n",
              "      <td>1.621860</td>\n",
              "      <td>-0.924028</td>\n",
              "      <td>-0.866259</td>\n",
              "      <td>-1.372852</td>\n",
              "      <td>1.836415</td>\n",
              "      <td>0</td>\n",
              "    </tr>\n",
              "    <tr>\n",
              "      <th>69791</th>\n",
              "      <td>1.430901</td>\n",
              "      <td>1.268575</td>\n",
              "      <td>-0.325935</td>\n",
              "      <td>-0.349177</td>\n",
              "      <td>-1.372852</td>\n",
              "      <td>1.836415</td>\n",
              "      <td>0</td>\n",
              "    </tr>\n",
              "    <tr>\n",
              "      <th>69793</th>\n",
              "      <td>1.430901</td>\n",
              "      <td>1.251416</td>\n",
              "      <td>-0.924028</td>\n",
              "      <td>-0.607718</td>\n",
              "      <td>-1.372852</td>\n",
              "      <td>1.836415</td>\n",
              "      <td>0</td>\n",
              "    </tr>\n",
              "    <tr>\n",
              "      <th>69876</th>\n",
              "      <td>0.947856</td>\n",
              "      <td>1.621860</td>\n",
              "      <td>-0.475458</td>\n",
              "      <td>-0.866259</td>\n",
              "      <td>-1.372852</td>\n",
              "      <td>1.836415</td>\n",
              "      <td>0</td>\n",
              "    </tr>\n",
              "  </tbody>\n",
              "</table>\n",
              "</div>"
            ],
            "text/plain": [
              "       CustomerID  Description  Quantity  UnitPrice     Month       Day  \\\n",
              "69903    1.443448     1.210031  0.720727  -1.144191 -1.372852  1.836415   \n",
              "69579    1.132292     1.200946 -0.924028  -0.607718 -1.372852  1.836415   \n",
              "69603    1.132292     1.450264 -0.176412  -0.607718 -1.372852  1.836415   \n",
              "69605    1.132292     1.478527 -0.624981  -0.866259 -1.372852  1.836415   \n",
              "69614    1.132292     1.374561 -0.924028  -0.349177 -1.372852  1.836415   \n",
              "69763    1.430901     0.743695 -0.924028  -0.866259 -1.372852  1.836415   \n",
              "69771    1.430901     1.359420 -0.924028  -1.144191 -1.372852  1.836415   \n",
              "69787    1.430901     1.621860 -0.924028  -0.866259 -1.372852  1.836415   \n",
              "69791    1.430901     1.268575 -0.325935  -0.349177 -1.372852  1.836415   \n",
              "69793    1.430901     1.251416 -0.924028  -0.607718 -1.372852  1.836415   \n",
              "69876    0.947856     1.621860 -0.475458  -0.866259 -1.372852  1.836415   \n",
              "\n",
              "       Cluster_Id  \n",
              "69903           0  \n",
              "69579           0  \n",
              "69603           0  \n",
              "69605           0  \n",
              "69614           0  \n",
              "69763           0  \n",
              "69771           0  \n",
              "69787           0  \n",
              "69791           0  \n",
              "69793           0  \n",
              "69876           0  "
            ]
          },
          "execution_count": 44,
          "metadata": {},
          "output_type": "execute_result"
        }
      ],
      "source": [
        "data_scaled['Cluster_Id']=cluster.labels_\n",
        "data_scaled[data_scaled['Cluster_Id']==0].sort_values(by=['Month']).head(11)"
      ]
    },
    {
      "cell_type": "code",
      "execution_count": null,
      "id": "37c5a974",
      "metadata": {
        "execution": {
          "iopub.execute_input": "2024-10-07T19:40:33.940498Z",
          "iopub.status.busy": "2024-10-07T19:40:33.940082Z",
          "iopub.status.idle": "2024-10-07T19:40:33.963587Z",
          "shell.execute_reply": "2024-10-07T19:40:33.962359Z"
        },
        "papermill": {
          "duration": 0.073314,
          "end_time": "2024-10-07T19:40:33.966211",
          "exception": false,
          "start_time": "2024-10-07T19:40:33.892897",
          "status": "completed"
        },
        "tags": [],
        "id": "37c5a974",
        "outputId": "2157d0cc-90ce-471e-bfa9-605ab3b29bd1"
      },
      "outputs": [
        {
          "data": {
            "text/html": [
              "<div>\n",
              "<style scoped>\n",
              "    .dataframe tbody tr th:only-of-type {\n",
              "        vertical-align: middle;\n",
              "    }\n",
              "\n",
              "    .dataframe tbody tr th {\n",
              "        vertical-align: top;\n",
              "    }\n",
              "\n",
              "    .dataframe thead th {\n",
              "        text-align: right;\n",
              "    }\n",
              "</style>\n",
              "<table border=\"1\" class=\"dataframe\">\n",
              "  <thead>\n",
              "    <tr style=\"text-align: right;\">\n",
              "      <th></th>\n",
              "      <th>CustomerID</th>\n",
              "      <th>Description</th>\n",
              "      <th>Quantity</th>\n",
              "      <th>UnitPrice</th>\n",
              "      <th>Month</th>\n",
              "      <th>Day</th>\n",
              "      <th>Cluster_Id</th>\n",
              "    </tr>\n",
              "  </thead>\n",
              "  <tbody>\n",
              "    <tr>\n",
              "      <th>25499</th>\n",
              "      <td>1.131664</td>\n",
              "      <td>1.005126</td>\n",
              "      <td>1.916912</td>\n",
              "      <td>-0.866259</td>\n",
              "      <td>-1.959373</td>\n",
              "      <td>-0.351279</td>\n",
              "      <td>1</td>\n",
              "    </tr>\n",
              "    <tr>\n",
              "      <th>21316</th>\n",
              "      <td>-0.164402</td>\n",
              "      <td>0.683132</td>\n",
              "      <td>2.664527</td>\n",
              "      <td>-1.144191</td>\n",
              "      <td>-1.959373</td>\n",
              "      <td>-1.157271</td>\n",
              "      <td>1</td>\n",
              "    </tr>\n",
              "    <tr>\n",
              "      <th>21317</th>\n",
              "      <td>-0.164402</td>\n",
              "      <td>1.214068</td>\n",
              "      <td>2.664527</td>\n",
              "      <td>-1.144191</td>\n",
              "      <td>-1.959373</td>\n",
              "      <td>-1.157271</td>\n",
              "      <td>1</td>\n",
              "    </tr>\n",
              "    <tr>\n",
              "      <th>21318</th>\n",
              "      <td>-0.164402</td>\n",
              "      <td>1.302894</td>\n",
              "      <td>2.664527</td>\n",
              "      <td>-1.144191</td>\n",
              "      <td>-1.959373</td>\n",
              "      <td>-1.157271</td>\n",
              "      <td>1</td>\n",
              "    </tr>\n",
              "    <tr>\n",
              "      <th>21335</th>\n",
              "      <td>1.672424</td>\n",
              "      <td>-0.344422</td>\n",
              "      <td>2.515004</td>\n",
              "      <td>-0.866259</td>\n",
              "      <td>-1.959373</td>\n",
              "      <td>-1.042130</td>\n",
              "      <td>1</td>\n",
              "    </tr>\n",
              "    <tr>\n",
              "      <th>21336</th>\n",
              "      <td>1.672424</td>\n",
              "      <td>-0.004260</td>\n",
              "      <td>1.916912</td>\n",
              "      <td>-1.144191</td>\n",
              "      <td>-1.959373</td>\n",
              "      <td>-1.042130</td>\n",
              "      <td>1</td>\n",
              "    </tr>\n",
              "    <tr>\n",
              "      <th>21337</th>\n",
              "      <td>1.672424</td>\n",
              "      <td>-0.011325</td>\n",
              "      <td>1.916912</td>\n",
              "      <td>-1.144191</td>\n",
              "      <td>-1.959373</td>\n",
              "      <td>-1.042130</td>\n",
              "      <td>1</td>\n",
              "    </tr>\n",
              "    <tr>\n",
              "      <th>21354</th>\n",
              "      <td>-1.545157</td>\n",
              "      <td>-1.383080</td>\n",
              "      <td>2.664527</td>\n",
              "      <td>-1.144191</td>\n",
              "      <td>-1.959373</td>\n",
              "      <td>-1.042130</td>\n",
              "      <td>1</td>\n",
              "    </tr>\n",
              "    <tr>\n",
              "      <th>21357</th>\n",
              "      <td>-1.545157</td>\n",
              "      <td>-0.853153</td>\n",
              "      <td>2.515004</td>\n",
              "      <td>-1.144191</td>\n",
              "      <td>-1.959373</td>\n",
              "      <td>-1.042130</td>\n",
              "      <td>1</td>\n",
              "    </tr>\n",
              "    <tr>\n",
              "      <th>21315</th>\n",
              "      <td>-0.164402</td>\n",
              "      <td>1.659207</td>\n",
              "      <td>2.664527</td>\n",
              "      <td>-1.144191</td>\n",
              "      <td>-1.959373</td>\n",
              "      <td>-1.157271</td>\n",
              "      <td>1</td>\n",
              "    </tr>\n",
              "    <tr>\n",
              "      <th>21358</th>\n",
              "      <td>-1.545157</td>\n",
              "      <td>1.454302</td>\n",
              "      <td>2.515004</td>\n",
              "      <td>-1.144191</td>\n",
              "      <td>-1.959373</td>\n",
              "      <td>-1.042130</td>\n",
              "      <td>1</td>\n",
              "    </tr>\n",
              "  </tbody>\n",
              "</table>\n",
              "</div>"
            ],
            "text/plain": [
              "       CustomerID  Description  Quantity  UnitPrice     Month       Day  \\\n",
              "25499    1.131664     1.005126  1.916912  -0.866259 -1.959373 -0.351279   \n",
              "21316   -0.164402     0.683132  2.664527  -1.144191 -1.959373 -1.157271   \n",
              "21317   -0.164402     1.214068  2.664527  -1.144191 -1.959373 -1.157271   \n",
              "21318   -0.164402     1.302894  2.664527  -1.144191 -1.959373 -1.157271   \n",
              "21335    1.672424    -0.344422  2.515004  -0.866259 -1.959373 -1.042130   \n",
              "21336    1.672424    -0.004260  1.916912  -1.144191 -1.959373 -1.042130   \n",
              "21337    1.672424    -0.011325  1.916912  -1.144191 -1.959373 -1.042130   \n",
              "21354   -1.545157    -1.383080  2.664527  -1.144191 -1.959373 -1.042130   \n",
              "21357   -1.545157    -0.853153  2.515004  -1.144191 -1.959373 -1.042130   \n",
              "21315   -0.164402     1.659207  2.664527  -1.144191 -1.959373 -1.157271   \n",
              "21358   -1.545157     1.454302  2.515004  -1.144191 -1.959373 -1.042130   \n",
              "\n",
              "       Cluster_Id  \n",
              "25499           1  \n",
              "21316           1  \n",
              "21317           1  \n",
              "21318           1  \n",
              "21335           1  \n",
              "21336           1  \n",
              "21337           1  \n",
              "21354           1  \n",
              "21357           1  \n",
              "21315           1  \n",
              "21358           1  "
            ]
          },
          "execution_count": 45,
          "metadata": {},
          "output_type": "execute_result"
        }
      ],
      "source": [
        "data_scaled[data_scaled['Cluster_Id']==1].sort_values(by=['Month']).head(11)"
      ]
    },
    {
      "cell_type": "code",
      "execution_count": null,
      "id": "7db0bddf",
      "metadata": {
        "execution": {
          "iopub.execute_input": "2024-10-07T19:40:34.060632Z",
          "iopub.status.busy": "2024-10-07T19:40:34.060220Z",
          "iopub.status.idle": "2024-10-07T19:40:34.085507Z",
          "shell.execute_reply": "2024-10-07T19:40:34.084510Z"
        },
        "papermill": {
          "duration": 0.074799,
          "end_time": "2024-10-07T19:40:34.087848",
          "exception": false,
          "start_time": "2024-10-07T19:40:34.013049",
          "status": "completed"
        },
        "tags": [],
        "id": "7db0bddf",
        "outputId": "7c298238-a94b-4705-fd50-3c96f20baea2"
      },
      "outputs": [
        {
          "data": {
            "text/html": [
              "<div>\n",
              "<style scoped>\n",
              "    .dataframe tbody tr th:only-of-type {\n",
              "        vertical-align: middle;\n",
              "    }\n",
              "\n",
              "    .dataframe tbody tr th {\n",
              "        vertical-align: top;\n",
              "    }\n",
              "\n",
              "    .dataframe thead th {\n",
              "        text-align: right;\n",
              "    }\n",
              "</style>\n",
              "<table border=\"1\" class=\"dataframe\">\n",
              "  <thead>\n",
              "    <tr style=\"text-align: right;\">\n",
              "      <th></th>\n",
              "      <th>CustomerID</th>\n",
              "      <th>Description</th>\n",
              "      <th>Quantity</th>\n",
              "      <th>UnitPrice</th>\n",
              "      <th>Month</th>\n",
              "      <th>Day</th>\n",
              "      <th>Cluster_Id</th>\n",
              "    </tr>\n",
              "  </thead>\n",
              "  <tbody>\n",
              "    <tr>\n",
              "      <th>88828</th>\n",
              "      <td>1.604672</td>\n",
              "      <td>-0.217240</td>\n",
              "      <td>-0.924028</td>\n",
              "      <td>-0.995530</td>\n",
              "      <td>-0.786331</td>\n",
              "      <td>-1.272413</td>\n",
              "      <td>2</td>\n",
              "    </tr>\n",
              "    <tr>\n",
              "      <th>88087</th>\n",
              "      <td>1.430901</td>\n",
              "      <td>1.057614</td>\n",
              "      <td>-0.325935</td>\n",
              "      <td>-0.058318</td>\n",
              "      <td>-0.786331</td>\n",
              "      <td>-1.387555</td>\n",
              "      <td>2</td>\n",
              "    </tr>\n",
              "    <tr>\n",
              "      <th>88090</th>\n",
              "      <td>1.430901</td>\n",
              "      <td>-0.224306</td>\n",
              "      <td>-0.924028</td>\n",
              "      <td>-0.071245</td>\n",
              "      <td>-0.786331</td>\n",
              "      <td>-1.387555</td>\n",
              "      <td>2</td>\n",
              "    </tr>\n",
              "    <tr>\n",
              "      <th>88091</th>\n",
              "      <td>1.430901</td>\n",
              "      <td>-0.079963</td>\n",
              "      <td>-0.924028</td>\n",
              "      <td>-0.349177</td>\n",
              "      <td>-0.786331</td>\n",
              "      <td>-1.387555</td>\n",
              "      <td>2</td>\n",
              "    </tr>\n",
              "    <tr>\n",
              "      <th>88093</th>\n",
              "      <td>1.430901</td>\n",
              "      <td>1.334185</td>\n",
              "      <td>-0.774505</td>\n",
              "      <td>-0.058318</td>\n",
              "      <td>-0.786331</td>\n",
              "      <td>-1.387555</td>\n",
              "      <td>2</td>\n",
              "    </tr>\n",
              "    <tr>\n",
              "      <th>88094</th>\n",
              "      <td>1.430901</td>\n",
              "      <td>1.333176</td>\n",
              "      <td>-0.774505</td>\n",
              "      <td>-0.058318</td>\n",
              "      <td>-0.786331</td>\n",
              "      <td>-1.387555</td>\n",
              "      <td>2</td>\n",
              "    </tr>\n",
              "    <tr>\n",
              "      <th>88095</th>\n",
              "      <td>1.430901</td>\n",
              "      <td>-0.233390</td>\n",
              "      <td>-0.624981</td>\n",
              "      <td>-0.071245</td>\n",
              "      <td>-0.786331</td>\n",
              "      <td>-1.387555</td>\n",
              "      <td>2</td>\n",
              "    </tr>\n",
              "    <tr>\n",
              "      <th>88097</th>\n",
              "      <td>1.430901</td>\n",
              "      <td>0.697263</td>\n",
              "      <td>-0.176412</td>\n",
              "      <td>-0.607718</td>\n",
              "      <td>-0.786331</td>\n",
              "      <td>-1.387555</td>\n",
              "      <td>2</td>\n",
              "    </tr>\n",
              "    <tr>\n",
              "      <th>88098</th>\n",
              "      <td>1.430901</td>\n",
              "      <td>1.170665</td>\n",
              "      <td>-0.924028</td>\n",
              "      <td>-0.866259</td>\n",
              "      <td>-0.786331</td>\n",
              "      <td>-1.387555</td>\n",
              "      <td>2</td>\n",
              "    </tr>\n",
              "    <tr>\n",
              "      <th>88099</th>\n",
              "      <td>1.430901</td>\n",
              "      <td>1.171674</td>\n",
              "      <td>-0.924028</td>\n",
              "      <td>-0.866259</td>\n",
              "      <td>-0.786331</td>\n",
              "      <td>-1.387555</td>\n",
              "      <td>2</td>\n",
              "    </tr>\n",
              "    <tr>\n",
              "      <th>88101</th>\n",
              "      <td>1.430901</td>\n",
              "      <td>0.604400</td>\n",
              "      <td>-0.924028</td>\n",
              "      <td>0.491081</td>\n",
              "      <td>-0.786331</td>\n",
              "      <td>-1.387555</td>\n",
              "      <td>2</td>\n",
              "    </tr>\n",
              "  </tbody>\n",
              "</table>\n",
              "</div>"
            ],
            "text/plain": [
              "       CustomerID  Description  Quantity  UnitPrice     Month       Day  \\\n",
              "88828    1.604672    -0.217240 -0.924028  -0.995530 -0.786331 -1.272413   \n",
              "88087    1.430901     1.057614 -0.325935  -0.058318 -0.786331 -1.387555   \n",
              "88090    1.430901    -0.224306 -0.924028  -0.071245 -0.786331 -1.387555   \n",
              "88091    1.430901    -0.079963 -0.924028  -0.349177 -0.786331 -1.387555   \n",
              "88093    1.430901     1.334185 -0.774505  -0.058318 -0.786331 -1.387555   \n",
              "88094    1.430901     1.333176 -0.774505  -0.058318 -0.786331 -1.387555   \n",
              "88095    1.430901    -0.233390 -0.624981  -0.071245 -0.786331 -1.387555   \n",
              "88097    1.430901     0.697263 -0.176412  -0.607718 -0.786331 -1.387555   \n",
              "88098    1.430901     1.170665 -0.924028  -0.866259 -0.786331 -1.387555   \n",
              "88099    1.430901     1.171674 -0.924028  -0.866259 -0.786331 -1.387555   \n",
              "88101    1.430901     0.604400 -0.924028   0.491081 -0.786331 -1.387555   \n",
              "\n",
              "       Cluster_Id  \n",
              "88828           2  \n",
              "88087           2  \n",
              "88090           2  \n",
              "88091           2  \n",
              "88093           2  \n",
              "88094           2  \n",
              "88095           2  \n",
              "88097           2  \n",
              "88098           2  \n",
              "88099           2  \n",
              "88101           2  "
            ]
          },
          "execution_count": 46,
          "metadata": {},
          "output_type": "execute_result"
        }
      ],
      "source": [
        "data_scaled[data_scaled['Cluster_Id']==2].sort_values(by=['Month']).head(11)"
      ]
    },
    {
      "cell_type": "code",
      "execution_count": null,
      "id": "8e290a69",
      "metadata": {
        "execution": {
          "iopub.execute_input": "2024-10-07T19:40:34.182823Z",
          "iopub.status.busy": "2024-10-07T19:40:34.182442Z",
          "iopub.status.idle": "2024-10-07T19:40:34.207807Z",
          "shell.execute_reply": "2024-10-07T19:40:34.206607Z"
        },
        "papermill": {
          "duration": 0.075513,
          "end_time": "2024-10-07T19:40:34.210319",
          "exception": false,
          "start_time": "2024-10-07T19:40:34.134806",
          "status": "completed"
        },
        "scrolled": true,
        "tags": [],
        "id": "8e290a69",
        "outputId": "5fd00849-20d6-420d-840a-e77d6261d432"
      },
      "outputs": [
        {
          "data": {
            "text/html": [
              "<div>\n",
              "<style scoped>\n",
              "    .dataframe tbody tr th:only-of-type {\n",
              "        vertical-align: middle;\n",
              "    }\n",
              "\n",
              "    .dataframe tbody tr th {\n",
              "        vertical-align: top;\n",
              "    }\n",
              "\n",
              "    .dataframe thead th {\n",
              "        text-align: right;\n",
              "    }\n",
              "</style>\n",
              "<table border=\"1\" class=\"dataframe\">\n",
              "  <thead>\n",
              "    <tr style=\"text-align: right;\">\n",
              "      <th></th>\n",
              "      <th>CustomerID</th>\n",
              "      <th>Description</th>\n",
              "      <th>Quantity</th>\n",
              "      <th>UnitPrice</th>\n",
              "      <th>Month</th>\n",
              "      <th>Day</th>\n",
              "      <th>Cluster_Id</th>\n",
              "    </tr>\n",
              "  </thead>\n",
              "  <tbody>\n",
              "    <tr>\n",
              "      <th>19988</th>\n",
              "      <td>-1.409654</td>\n",
              "      <td>-0.238437</td>\n",
              "      <td>0.421680</td>\n",
              "      <td>-0.155271</td>\n",
              "      <td>-1.959373</td>\n",
              "      <td>-1.272413</td>\n",
              "      <td>3</td>\n",
              "    </tr>\n",
              "    <tr>\n",
              "      <th>30153</th>\n",
              "      <td>1.286615</td>\n",
              "      <td>-1.310404</td>\n",
              "      <td>0.720727</td>\n",
              "      <td>-1.144191</td>\n",
              "      <td>-1.959373</td>\n",
              "      <td>0.915280</td>\n",
              "      <td>3</td>\n",
              "    </tr>\n",
              "    <tr>\n",
              "      <th>30156</th>\n",
              "      <td>1.286615</td>\n",
              "      <td>-1.682867</td>\n",
              "      <td>-0.924028</td>\n",
              "      <td>0.491081</td>\n",
              "      <td>-1.959373</td>\n",
              "      <td>0.915280</td>\n",
              "      <td>3</td>\n",
              "    </tr>\n",
              "    <tr>\n",
              "      <th>30157</th>\n",
              "      <td>1.286615</td>\n",
              "      <td>1.450264</td>\n",
              "      <td>-0.774505</td>\n",
              "      <td>-0.607718</td>\n",
              "      <td>-1.959373</td>\n",
              "      <td>0.915280</td>\n",
              "      <td>3</td>\n",
              "    </tr>\n",
              "    <tr>\n",
              "      <th>30158</th>\n",
              "      <td>1.286615</td>\n",
              "      <td>0.765901</td>\n",
              "      <td>0.720727</td>\n",
              "      <td>-1.144191</td>\n",
              "      <td>-1.959373</td>\n",
              "      <td>0.915280</td>\n",
              "      <td>3</td>\n",
              "    </tr>\n",
              "    <tr>\n",
              "      <th>30159</th>\n",
              "      <td>1.286615</td>\n",
              "      <td>1.303904</td>\n",
              "      <td>0.720727</td>\n",
              "      <td>-1.144191</td>\n",
              "      <td>-1.959373</td>\n",
              "      <td>0.915280</td>\n",
              "      <td>3</td>\n",
              "    </tr>\n",
              "    <tr>\n",
              "      <th>30160</th>\n",
              "      <td>1.286615</td>\n",
              "      <td>-1.682867</td>\n",
              "      <td>-0.774505</td>\n",
              "      <td>0.491081</td>\n",
              "      <td>-1.959373</td>\n",
              "      <td>0.915280</td>\n",
              "      <td>3</td>\n",
              "    </tr>\n",
              "    <tr>\n",
              "      <th>30162</th>\n",
              "      <td>1.286615</td>\n",
              "      <td>0.676066</td>\n",
              "      <td>-0.924028</td>\n",
              "      <td>0.232540</td>\n",
              "      <td>-1.959373</td>\n",
              "      <td>0.915280</td>\n",
              "      <td>3</td>\n",
              "    </tr>\n",
              "    <tr>\n",
              "      <th>30163</th>\n",
              "      <td>1.286615</td>\n",
              "      <td>-1.481999</td>\n",
              "      <td>-0.176412</td>\n",
              "      <td>-1.144191</td>\n",
              "      <td>-1.959373</td>\n",
              "      <td>0.915280</td>\n",
              "      <td>3</td>\n",
              "    </tr>\n",
              "    <tr>\n",
              "      <th>30164</th>\n",
              "      <td>-1.461722</td>\n",
              "      <td>1.155524</td>\n",
              "      <td>-0.924028</td>\n",
              "      <td>-0.866259</td>\n",
              "      <td>-1.959373</td>\n",
              "      <td>0.915280</td>\n",
              "      <td>3</td>\n",
              "    </tr>\n",
              "    <tr>\n",
              "      <th>30165</th>\n",
              "      <td>-1.461722</td>\n",
              "      <td>-1.846388</td>\n",
              "      <td>-0.624981</td>\n",
              "      <td>-0.995530</td>\n",
              "      <td>-1.959373</td>\n",
              "      <td>0.915280</td>\n",
              "      <td>3</td>\n",
              "    </tr>\n",
              "  </tbody>\n",
              "</table>\n",
              "</div>"
            ],
            "text/plain": [
              "       CustomerID  Description  Quantity  UnitPrice     Month       Day  \\\n",
              "19988   -1.409654    -0.238437  0.421680  -0.155271 -1.959373 -1.272413   \n",
              "30153    1.286615    -1.310404  0.720727  -1.144191 -1.959373  0.915280   \n",
              "30156    1.286615    -1.682867 -0.924028   0.491081 -1.959373  0.915280   \n",
              "30157    1.286615     1.450264 -0.774505  -0.607718 -1.959373  0.915280   \n",
              "30158    1.286615     0.765901  0.720727  -1.144191 -1.959373  0.915280   \n",
              "30159    1.286615     1.303904  0.720727  -1.144191 -1.959373  0.915280   \n",
              "30160    1.286615    -1.682867 -0.774505   0.491081 -1.959373  0.915280   \n",
              "30162    1.286615     0.676066 -0.924028   0.232540 -1.959373  0.915280   \n",
              "30163    1.286615    -1.481999 -0.176412  -1.144191 -1.959373  0.915280   \n",
              "30164   -1.461722     1.155524 -0.924028  -0.866259 -1.959373  0.915280   \n",
              "30165   -1.461722    -1.846388 -0.624981  -0.995530 -1.959373  0.915280   \n",
              "\n",
              "       Cluster_Id  \n",
              "19988           3  \n",
              "30153           3  \n",
              "30156           3  \n",
              "30157           3  \n",
              "30158           3  \n",
              "30159           3  \n",
              "30160           3  \n",
              "30162           3  \n",
              "30163           3  \n",
              "30164           3  \n",
              "30165           3  "
            ]
          },
          "execution_count": 47,
          "metadata": {},
          "output_type": "execute_result"
        }
      ],
      "source": [
        "data_scaled[data_scaled['Cluster_Id']==3].sort_values(by=['Month']).head(11)"
      ]
    },
    {
      "cell_type": "code",
      "execution_count": null,
      "id": "12cce952",
      "metadata": {
        "execution": {
          "iopub.execute_input": "2024-10-07T19:40:34.308988Z",
          "iopub.status.busy": "2024-10-07T19:40:34.308552Z",
          "iopub.status.idle": "2024-10-07T19:40:34.333486Z",
          "shell.execute_reply": "2024-10-07T19:40:34.332337Z"
        },
        "papermill": {
          "duration": 0.077339,
          "end_time": "2024-10-07T19:40:34.335994",
          "exception": false,
          "start_time": "2024-10-07T19:40:34.258655",
          "status": "completed"
        },
        "tags": [],
        "id": "12cce952",
        "outputId": "7e9befbe-73f5-447b-b2d9-1930abed36bd"
      },
      "outputs": [
        {
          "data": {
            "text/html": [
              "<div>\n",
              "<style scoped>\n",
              "    .dataframe tbody tr th:only-of-type {\n",
              "        vertical-align: middle;\n",
              "    }\n",
              "\n",
              "    .dataframe tbody tr th {\n",
              "        vertical-align: top;\n",
              "    }\n",
              "\n",
              "    .dataframe thead th {\n",
              "        text-align: right;\n",
              "    }\n",
              "</style>\n",
              "<table border=\"1\" class=\"dataframe\">\n",
              "  <thead>\n",
              "    <tr style=\"text-align: right;\">\n",
              "      <th></th>\n",
              "      <th>CustomerID</th>\n",
              "      <th>Description</th>\n",
              "      <th>Quantity</th>\n",
              "      <th>UnitPrice</th>\n",
              "      <th>Month</th>\n",
              "      <th>Day</th>\n",
              "      <th>Cluster_Id</th>\n",
              "    </tr>\n",
              "  </thead>\n",
              "  <tbody>\n",
              "    <tr>\n",
              "      <th>27103</th>\n",
              "      <td>-0.366402</td>\n",
              "      <td>0.913272</td>\n",
              "      <td>-0.924028</td>\n",
              "      <td>1.783787</td>\n",
              "      <td>-1.959373</td>\n",
              "      <td>0.224430</td>\n",
              "      <td>4</td>\n",
              "    </tr>\n",
              "    <tr>\n",
              "      <th>24104</th>\n",
              "      <td>1.158012</td>\n",
              "      <td>-0.185949</td>\n",
              "      <td>-0.026889</td>\n",
              "      <td>1.783787</td>\n",
              "      <td>-1.959373</td>\n",
              "      <td>-0.581562</td>\n",
              "      <td>4</td>\n",
              "    </tr>\n",
              "    <tr>\n",
              "      <th>24106</th>\n",
              "      <td>1.158012</td>\n",
              "      <td>1.256462</td>\n",
              "      <td>-0.774505</td>\n",
              "      <td>1.783787</td>\n",
              "      <td>-1.959373</td>\n",
              "      <td>-0.581562</td>\n",
              "      <td>4</td>\n",
              "    </tr>\n",
              "    <tr>\n",
              "      <th>24120</th>\n",
              "      <td>-0.313079</td>\n",
              "      <td>-0.935922</td>\n",
              "      <td>1.916912</td>\n",
              "      <td>2.947222</td>\n",
              "      <td>-1.959373</td>\n",
              "      <td>-0.581562</td>\n",
              "      <td>4</td>\n",
              "    </tr>\n",
              "    <tr>\n",
              "      <th>24121</th>\n",
              "      <td>-0.313079</td>\n",
              "      <td>-0.946016</td>\n",
              "      <td>0.421680</td>\n",
              "      <td>2.947222</td>\n",
              "      <td>-1.959373</td>\n",
              "      <td>-0.581562</td>\n",
              "      <td>4</td>\n",
              "    </tr>\n",
              "    <tr>\n",
              "      <th>24130</th>\n",
              "      <td>-1.124845</td>\n",
              "      <td>-0.873340</td>\n",
              "      <td>0.720727</td>\n",
              "      <td>2.430140</td>\n",
              "      <td>-1.959373</td>\n",
              "      <td>-0.581562</td>\n",
              "      <td>4</td>\n",
              "    </tr>\n",
              "    <tr>\n",
              "      <th>24131</th>\n",
              "      <td>-1.124845</td>\n",
              "      <td>0.681113</td>\n",
              "      <td>0.720727</td>\n",
              "      <td>2.430140</td>\n",
              "      <td>-1.959373</td>\n",
              "      <td>-0.581562</td>\n",
              "      <td>4</td>\n",
              "    </tr>\n",
              "    <tr>\n",
              "      <th>24132</th>\n",
              "      <td>-1.124845</td>\n",
              "      <td>-1.507234</td>\n",
              "      <td>0.720727</td>\n",
              "      <td>2.430140</td>\n",
              "      <td>-1.959373</td>\n",
              "      <td>-0.581562</td>\n",
              "      <td>4</td>\n",
              "    </tr>\n",
              "    <tr>\n",
              "      <th>24138</th>\n",
              "      <td>-0.323744</td>\n",
              "      <td>-1.003551</td>\n",
              "      <td>-0.774505</td>\n",
              "      <td>2.430140</td>\n",
              "      <td>-1.959373</td>\n",
              "      <td>-0.581562</td>\n",
              "      <td>4</td>\n",
              "    </tr>\n",
              "    <tr>\n",
              "      <th>24141</th>\n",
              "      <td>-0.323744</td>\n",
              "      <td>-0.345432</td>\n",
              "      <td>-0.176412</td>\n",
              "      <td>2.430140</td>\n",
              "      <td>-1.959373</td>\n",
              "      <td>-0.581562</td>\n",
              "      <td>4</td>\n",
              "    </tr>\n",
              "    <tr>\n",
              "      <th>24142</th>\n",
              "      <td>-0.323744</td>\n",
              "      <td>-1.606154</td>\n",
              "      <td>-0.475458</td>\n",
              "      <td>2.430140</td>\n",
              "      <td>-1.959373</td>\n",
              "      <td>-0.581562</td>\n",
              "      <td>4</td>\n",
              "    </tr>\n",
              "  </tbody>\n",
              "</table>\n",
              "</div>"
            ],
            "text/plain": [
              "       CustomerID  Description  Quantity  UnitPrice     Month       Day  \\\n",
              "27103   -0.366402     0.913272 -0.924028   1.783787 -1.959373  0.224430   \n",
              "24104    1.158012    -0.185949 -0.026889   1.783787 -1.959373 -0.581562   \n",
              "24106    1.158012     1.256462 -0.774505   1.783787 -1.959373 -0.581562   \n",
              "24120   -0.313079    -0.935922  1.916912   2.947222 -1.959373 -0.581562   \n",
              "24121   -0.313079    -0.946016  0.421680   2.947222 -1.959373 -0.581562   \n",
              "24130   -1.124845    -0.873340  0.720727   2.430140 -1.959373 -0.581562   \n",
              "24131   -1.124845     0.681113  0.720727   2.430140 -1.959373 -0.581562   \n",
              "24132   -1.124845    -1.507234  0.720727   2.430140 -1.959373 -0.581562   \n",
              "24138   -0.323744    -1.003551 -0.774505   2.430140 -1.959373 -0.581562   \n",
              "24141   -0.323744    -0.345432 -0.176412   2.430140 -1.959373 -0.581562   \n",
              "24142   -0.323744    -1.606154 -0.475458   2.430140 -1.959373 -0.581562   \n",
              "\n",
              "       Cluster_Id  \n",
              "27103           4  \n",
              "24104           4  \n",
              "24106           4  \n",
              "24120           4  \n",
              "24121           4  \n",
              "24130           4  \n",
              "24131           4  \n",
              "24132           4  \n",
              "24138           4  \n",
              "24141           4  \n",
              "24142           4  "
            ]
          },
          "execution_count": 48,
          "metadata": {},
          "output_type": "execute_result"
        }
      ],
      "source": [
        "data_scaled[data_scaled['Cluster_Id']==4].sort_values(by=['Month']).head(11)"
      ]
    },
    {
      "cell_type": "code",
      "execution_count": null,
      "id": "232e4f0f",
      "metadata": {
        "execution": {
          "iopub.execute_input": "2024-10-07T19:40:34.434026Z",
          "iopub.status.busy": "2024-10-07T19:40:34.433242Z",
          "iopub.status.idle": "2024-10-07T19:40:34.443971Z",
          "shell.execute_reply": "2024-10-07T19:40:34.442890Z"
        },
        "papermill": {
          "duration": 0.062703,
          "end_time": "2024-10-07T19:40:34.446530",
          "exception": false,
          "start_time": "2024-10-07T19:40:34.383827",
          "status": "completed"
        },
        "tags": [],
        "id": "232e4f0f",
        "outputId": "d3a3dd22-1b86-4254-be92-38b0ed03325a"
      },
      "outputs": [
        {
          "data": {
            "text/plain": [
              "Cluster_Id\n",
              "2    78779\n",
              "3    73665\n",
              "0    68014\n",
              "4    49415\n",
              "1    30430\n",
              "Name: count, dtype: int64"
            ]
          },
          "execution_count": 49,
          "metadata": {},
          "output_type": "execute_result"
        }
      ],
      "source": [
        "data_scaled['Cluster_Id'].value_counts()"
      ]
    },
    {
      "cell_type": "markdown",
      "id": "9e95b005",
      "metadata": {
        "papermill": {
          "duration": 0.04697,
          "end_time": "2024-10-07T19:40:34.541720",
          "exception": false,
          "start_time": "2024-10-07T19:40:34.494750",
          "status": "completed"
        },
        "tags": [],
        "id": "9e95b005"
      },
      "source": [
        "after KMeans clustering, build  LogisticRegression, DecisionTreeClassifier and XGBClassifier for better accuracy, these models are giving better accuracy."
      ]
    },
    {
      "cell_type": "markdown",
      "id": "665332c2",
      "metadata": {
        "papermill": {
          "duration": 0.047115,
          "end_time": "2024-10-07T19:40:34.636963",
          "exception": false,
          "start_time": "2024-10-07T19:40:34.589848",
          "status": "completed"
        },
        "tags": [],
        "id": "665332c2"
      },
      "source": [
        "# Model Building:"
      ]
    },
    {
      "cell_type": "markdown",
      "id": "d7462d6d",
      "metadata": {
        "papermill": {
          "duration": 0.046944,
          "end_time": "2024-10-07T19:40:34.731163",
          "exception": false,
          "start_time": "2024-10-07T19:40:34.684219",
          "status": "completed"
        },
        "tags": [],
        "id": "d7462d6d"
      },
      "source": [
        "Declaring independent and dependent variables as x and y."
      ]
    },
    {
      "cell_type": "code",
      "execution_count": null,
      "id": "110d7977",
      "metadata": {
        "execution": {
          "iopub.execute_input": "2024-10-07T19:40:34.827681Z",
          "iopub.status.busy": "2024-10-07T19:40:34.827247Z",
          "iopub.status.idle": "2024-10-07T19:40:34.839282Z",
          "shell.execute_reply": "2024-10-07T19:40:34.838365Z"
        },
        "papermill": {
          "duration": 0.06313,
          "end_time": "2024-10-07T19:40:34.841735",
          "exception": false,
          "start_time": "2024-10-07T19:40:34.778605",
          "status": "completed"
        },
        "tags": [],
        "id": "110d7977"
      },
      "outputs": [],
      "source": [
        "x = data_scaled.loc[:,['CustomerID','Description','Quantity','UnitPrice','Month','Day']]\n",
        "y = data_scaled.loc[:,['Cluster_Id']]"
      ]
    },
    {
      "cell_type": "markdown",
      "id": "2386e662",
      "metadata": {
        "papermill": {
          "duration": 0.046624,
          "end_time": "2024-10-07T19:40:34.935589",
          "exception": false,
          "start_time": "2024-10-07T19:40:34.888965",
          "status": "completed"
        },
        "tags": [],
        "id": "2386e662"
      },
      "source": [
        "# Splitting Data:"
      ]
    },
    {
      "cell_type": "markdown",
      "id": "359c328f",
      "metadata": {
        "papermill": {
          "duration": 0.047163,
          "end_time": "2024-10-07T19:40:35.029974",
          "exception": false,
          "start_time": "2024-10-07T19:40:34.982811",
          "status": "completed"
        },
        "tags": [],
        "id": "359c328f"
      },
      "source": [
        "Deviding dependent and independent data into train test split for bulding a model."
      ]
    },
    {
      "cell_type": "code",
      "execution_count": null,
      "id": "73823b3c",
      "metadata": {
        "execution": {
          "iopub.execute_input": "2024-10-07T19:40:35.127559Z",
          "iopub.status.busy": "2024-10-07T19:40:35.127113Z",
          "iopub.status.idle": "2024-10-07T19:40:35.181146Z",
          "shell.execute_reply": "2024-10-07T19:40:35.180002Z"
        },
        "papermill": {
          "duration": 0.106739,
          "end_time": "2024-10-07T19:40:35.183874",
          "exception": false,
          "start_time": "2024-10-07T19:40:35.077135",
          "status": "completed"
        },
        "tags": [],
        "id": "73823b3c"
      },
      "outputs": [],
      "source": [
        "from sklearn.model_selection import train_test_split\n",
        "x_train,x_test,y_train,y_test=train_test_split(x,y, train_size=0.8,random_state=123)"
      ]
    },
    {
      "cell_type": "markdown",
      "id": "7b0f093b",
      "metadata": {
        "papermill": {
          "duration": 0.0492,
          "end_time": "2024-10-07T19:40:35.280803",
          "exception": false,
          "start_time": "2024-10-07T19:40:35.231603",
          "status": "completed"
        },
        "tags": [],
        "id": "7b0f093b"
      },
      "source": [
        "# LogisticRegression:"
      ]
    },
    {
      "cell_type": "markdown",
      "id": "5ed65bee",
      "metadata": {
        "papermill": {
          "duration": 0.048227,
          "end_time": "2024-10-07T19:40:35.377527",
          "exception": false,
          "start_time": "2024-10-07T19:40:35.329300",
          "status": "completed"
        },
        "tags": [],
        "id": "5ed65bee"
      },
      "source": [
        "This is a classification problem so importing LogisticRegression from sklearn.linear_model package for building a Logisticregression model."
      ]
    },
    {
      "cell_type": "code",
      "execution_count": null,
      "id": "04a0632d",
      "metadata": {
        "execution": {
          "iopub.execute_input": "2024-10-07T19:40:35.476193Z",
          "iopub.status.busy": "2024-10-07T19:40:35.475784Z",
          "iopub.status.idle": "2024-10-07T19:40:35.480844Z",
          "shell.execute_reply": "2024-10-07T19:40:35.479765Z"
        },
        "papermill": {
          "duration": 0.057386,
          "end_time": "2024-10-07T19:40:35.483197",
          "exception": false,
          "start_time": "2024-10-07T19:40:35.425811",
          "status": "completed"
        },
        "tags": [],
        "id": "04a0632d"
      },
      "outputs": [],
      "source": [
        "# Importing LogisticRegression:\n",
        "from sklearn.linear_model import LogisticRegression"
      ]
    },
    {
      "cell_type": "markdown",
      "id": "1037d8e8",
      "metadata": {
        "papermill": {
          "duration": 0.04687,
          "end_time": "2024-10-07T19:40:35.577640",
          "exception": false,
          "start_time": "2024-10-07T19:40:35.530770",
          "status": "completed"
        },
        "tags": [],
        "id": "1037d8e8"
      },
      "source": [
        "Fitting traing data into LogisticRegression model for getting predictions and accuracy of model."
      ]
    },
    {
      "cell_type": "code",
      "execution_count": null,
      "id": "80c984cb",
      "metadata": {
        "execution": {
          "iopub.execute_input": "2024-10-07T19:40:35.673696Z",
          "iopub.status.busy": "2024-10-07T19:40:35.673260Z",
          "iopub.status.idle": "2024-10-07T19:40:41.221924Z",
          "shell.execute_reply": "2024-10-07T19:40:41.220395Z"
        },
        "papermill": {
          "duration": 5.60142,
          "end_time": "2024-10-07T19:40:41.226167",
          "exception": false,
          "start_time": "2024-10-07T19:40:35.624747",
          "status": "completed"
        },
        "tags": [],
        "id": "80c984cb"
      },
      "outputs": [],
      "source": [
        "logistic = LogisticRegression().fit(x_train, y_train)\n",
        "pred = logistic.predict(x_test)"
      ]
    },
    {
      "cell_type": "markdown",
      "id": "ade75b43",
      "metadata": {
        "papermill": {
          "duration": 0.048429,
          "end_time": "2024-10-07T19:40:41.379646",
          "exception": false,
          "start_time": "2024-10-07T19:40:41.331217",
          "status": "completed"
        },
        "tags": [],
        "id": "ade75b43"
      },
      "source": [
        "Importing accuracy_score, confusion_matrics and classification_report from sklearn.metrics."
      ]
    },
    {
      "cell_type": "code",
      "execution_count": null,
      "id": "4196fc01",
      "metadata": {
        "execution": {
          "iopub.execute_input": "2024-10-07T19:40:41.475851Z",
          "iopub.status.busy": "2024-10-07T19:40:41.475444Z",
          "iopub.status.idle": "2024-10-07T19:40:41.503103Z",
          "shell.execute_reply": "2024-10-07T19:40:41.501775Z"
        },
        "papermill": {
          "duration": 0.078681,
          "end_time": "2024-10-07T19:40:41.505470",
          "exception": false,
          "start_time": "2024-10-07T19:40:41.426789",
          "status": "completed"
        },
        "tags": [],
        "id": "4196fc01",
        "outputId": "a7c8c280-e1cd-4c1d-982a-3180d71b1e11"
      },
      "outputs": [
        {
          "name": "stdout",
          "output_type": "stream",
          "text": [
            "[[13647     4     4     0     0]\n",
            " [    4  6100     2     1     1]\n",
            " [   11     3 15708     4     2]\n",
            " [    9     4     8 14709     0]\n",
            " [    7     1     5     2  9825]]\n",
            "0.9988012187609264\n"
          ]
        }
      ],
      "source": [
        "from sklearn.metrics import accuracy_score, confusion_matrix, classification_report\n",
        "print(confusion_matrix(pred,y_test))\n",
        "lr_acc = accuracy_score(pred,y_test)\n",
        "print(lr_acc)"
      ]
    },
    {
      "cell_type": "markdown",
      "id": "47de45fa",
      "metadata": {
        "papermill": {
          "duration": 0.046709,
          "end_time": "2024-10-07T19:40:41.599858",
          "exception": false,
          "start_time": "2024-10-07T19:40:41.553149",
          "status": "completed"
        },
        "tags": [],
        "id": "47de45fa"
      },
      "source": [
        "Model gives 99% accuracy, with classification_report we could get precision , recall, f1_score and total correctly predicted positive, negetive values."
      ]
    },
    {
      "cell_type": "markdown",
      "id": "2fdb93c0",
      "metadata": {
        "papermill": {
          "duration": 0.046813,
          "end_time": "2024-10-07T19:40:41.693704",
          "exception": false,
          "start_time": "2024-10-07T19:40:41.646891",
          "status": "completed"
        },
        "tags": [],
        "id": "2fdb93c0"
      },
      "source": [
        "A classification report is a performance evaluation metric in machine learning. It is used to show the precision, recall, F1 Score, and support of your trained classification model."
      ]
    },
    {
      "cell_type": "code",
      "execution_count": null,
      "id": "44fe50c0",
      "metadata": {
        "execution": {
          "iopub.execute_input": "2024-10-07T19:40:41.790359Z",
          "iopub.status.busy": "2024-10-07T19:40:41.789925Z",
          "iopub.status.idle": "2024-10-07T19:40:41.907742Z",
          "shell.execute_reply": "2024-10-07T19:40:41.906207Z"
        },
        "papermill": {
          "duration": 0.169197,
          "end_time": "2024-10-07T19:40:41.910354",
          "exception": false,
          "start_time": "2024-10-07T19:40:41.741157",
          "status": "completed"
        },
        "tags": [],
        "id": "44fe50c0",
        "outputId": "3f615a11-5642-4558-df2b-66be0b984ff4"
      },
      "outputs": [
        {
          "name": "stdout",
          "output_type": "stream",
          "text": [
            "              precision    recall  f1-score   support\n",
            "\n",
            "           0       1.00      1.00      1.00     13678\n",
            "           1       1.00      1.00      1.00      6112\n",
            "           2       1.00      1.00      1.00     15727\n",
            "           3       1.00      1.00      1.00     14716\n",
            "           4       1.00      1.00      1.00      9828\n",
            "\n",
            "    accuracy                           1.00     60061\n",
            "   macro avg       1.00      1.00      1.00     60061\n",
            "weighted avg       1.00      1.00      1.00     60061\n",
            "\n"
          ]
        }
      ],
      "source": [
        "print(classification_report(y_test, pred))"
      ]
    },
    {
      "cell_type": "markdown",
      "id": "6ace0216",
      "metadata": {
        "papermill": {
          "duration": 0.047139,
          "end_time": "2024-10-07T19:40:42.005730",
          "exception": false,
          "start_time": "2024-10-07T19:40:41.958591",
          "status": "completed"
        },
        "tags": [],
        "id": "6ace0216"
      },
      "source": [
        "# DecisionTreeClassifier:"
      ]
    },
    {
      "cell_type": "markdown",
      "id": "c2b8b6fd",
      "metadata": {
        "papermill": {
          "duration": 0.047476,
          "end_time": "2024-10-07T19:40:42.100967",
          "exception": false,
          "start_time": "2024-10-07T19:40:42.053491",
          "status": "completed"
        },
        "tags": [],
        "id": "c2b8b6fd"
      },
      "source": [
        " A decision tree is a type of supervised machine learning used to categorize or make predictions based on how a previous set of questions were answered. The model is a form of supervised learning, meaning that the model is trained and tested on a set of data that contains the desired categorization.\n",
        "Importing DecisionTreeClassifier from sklearn.tree for building a decisiontree model"
      ]
    },
    {
      "cell_type": "code",
      "execution_count": null,
      "id": "fff9a327",
      "metadata": {
        "execution": {
          "iopub.execute_input": "2024-10-07T19:40:42.198847Z",
          "iopub.status.busy": "2024-10-07T19:40:42.198408Z",
          "iopub.status.idle": "2024-10-07T19:40:42.203847Z",
          "shell.execute_reply": "2024-10-07T19:40:42.202735Z"
        },
        "papermill": {
          "duration": 0.057368,
          "end_time": "2024-10-07T19:40:42.206193",
          "exception": false,
          "start_time": "2024-10-07T19:40:42.148825",
          "status": "completed"
        },
        "tags": [],
        "id": "fff9a327"
      },
      "outputs": [],
      "source": [
        "# Importing DecisionTreeClassifier:\n",
        "from sklearn.tree import DecisionTreeClassifier"
      ]
    },
    {
      "cell_type": "markdown",
      "id": "2da82c65",
      "metadata": {
        "papermill": {
          "duration": 0.047542,
          "end_time": "2024-10-07T19:40:42.301939",
          "exception": false,
          "start_time": "2024-10-07T19:40:42.254397",
          "status": "completed"
        },
        "tags": [],
        "id": "2da82c65"
      },
      "source": [
        "After importing decisiontreeclassifier fit the training data into the model for getting predicted values."
      ]
    },
    {
      "cell_type": "code",
      "execution_count": null,
      "id": "e018ccb9",
      "metadata": {
        "execution": {
          "iopub.execute_input": "2024-10-07T19:40:42.403054Z",
          "iopub.status.busy": "2024-10-07T19:40:42.402279Z",
          "iopub.status.idle": "2024-10-07T19:40:43.552614Z",
          "shell.execute_reply": "2024-10-07T19:40:43.551453Z"
        },
        "papermill": {
          "duration": 1.201914,
          "end_time": "2024-10-07T19:40:43.555052",
          "exception": false,
          "start_time": "2024-10-07T19:40:42.353138",
          "status": "completed"
        },
        "tags": [],
        "id": "e018ccb9",
        "outputId": "0ae00733-e1ca-4be0-f232-51997bed1a2f"
      },
      "outputs": [
        {
          "data": {
            "text/plain": [
              "array([1, 0, 1, ..., 2, 3, 0], dtype=int32)"
            ]
          },
          "execution_count": 57,
          "metadata": {},
          "output_type": "execute_result"
        }
      ],
      "source": [
        "dt=DecisionTreeClassifier().fit(x_train,y_train)\n",
        "predicted=dt.predict(x_test)\n",
        "predicted"
      ]
    },
    {
      "cell_type": "markdown",
      "id": "ac9ed5b4",
      "metadata": {
        "papermill": {
          "duration": 0.047312,
          "end_time": "2024-10-07T19:40:43.650894",
          "exception": false,
          "start_time": "2024-10-07T19:40:43.603582",
          "status": "completed"
        },
        "tags": [],
        "id": "ac9ed5b4"
      },
      "source": [
        "# Model Evaluation:"
      ]
    },
    {
      "cell_type": "markdown",
      "id": "c08f5964",
      "metadata": {
        "papermill": {
          "duration": 0.047497,
          "end_time": "2024-10-07T19:40:43.746997",
          "exception": false,
          "start_time": "2024-10-07T19:40:43.699500",
          "status": "completed"
        },
        "tags": [],
        "id": "c08f5964"
      },
      "source": [
        "After getting predicted values from the model, we have to evaluate the accuracy of the model and confusion matrix, for that we have to import accuracy_score and confusion_matrix from sklearn.metrics."
      ]
    },
    {
      "cell_type": "code",
      "execution_count": null,
      "id": "c3fd6232",
      "metadata": {
        "execution": {
          "iopub.execute_input": "2024-10-07T19:40:43.844590Z",
          "iopub.status.busy": "2024-10-07T19:40:43.844176Z",
          "iopub.status.idle": "2024-10-07T19:40:43.865284Z",
          "shell.execute_reply": "2024-10-07T19:40:43.864193Z"
        },
        "papermill": {
          "duration": 0.072999,
          "end_time": "2024-10-07T19:40:43.867846",
          "exception": false,
          "start_time": "2024-10-07T19:40:43.794847",
          "status": "completed"
        },
        "tags": [],
        "id": "c3fd6232",
        "outputId": "eeb2a952-5c68-4e88-fadc-9397228c1770"
      },
      "outputs": [
        {
          "data": {
            "text/plain": [
              "array([[13556,    15,    13,    51,    45],\n",
              "       [   13,  6070,    14,    13,     2],\n",
              "       [   16,    19, 15602,    41,    69],\n",
              "       [   42,     6,    45, 14599,     5],\n",
              "       [   51,     2,    53,    12,  9707]])"
            ]
          },
          "execution_count": 58,
          "metadata": {},
          "output_type": "execute_result"
        }
      ],
      "source": [
        "from sklearn.metrics import accuracy_score, confusion_matrix\n",
        "confusion_matrix(predicted,y_test)"
      ]
    },
    {
      "cell_type": "code",
      "execution_count": null,
      "id": "76e85a44",
      "metadata": {
        "execution": {
          "iopub.execute_input": "2024-10-07T19:40:43.966935Z",
          "iopub.status.busy": "2024-10-07T19:40:43.966017Z",
          "iopub.status.idle": "2024-10-07T19:40:43.981448Z",
          "shell.execute_reply": "2024-10-07T19:40:43.980314Z"
        },
        "papermill": {
          "duration": 0.067426,
          "end_time": "2024-10-07T19:40:43.983914",
          "exception": false,
          "start_time": "2024-10-07T19:40:43.916488",
          "status": "completed"
        },
        "tags": [],
        "id": "76e85a44",
        "outputId": "f3a697e6-0ed8-42f0-abc9-891bb71d7865"
      },
      "outputs": [
        {
          "data": {
            "text/plain": [
              "0.9912255873195585"
            ]
          },
          "execution_count": 59,
          "metadata": {},
          "output_type": "execute_result"
        }
      ],
      "source": [
        "dt_acc = accuracy_score(predicted,y_test)\n",
        "dt_acc"
      ]
    },
    {
      "cell_type": "markdown",
      "id": "b23838d0",
      "metadata": {
        "papermill": {
          "duration": 0.048714,
          "end_time": "2024-10-07T19:40:44.081524",
          "exception": false,
          "start_time": "2024-10-07T19:40:44.032810",
          "status": "completed"
        },
        "tags": [],
        "id": "b23838d0"
      },
      "source": [
        "# classification_report"
      ]
    },
    {
      "cell_type": "markdown",
      "id": "974e562e",
      "metadata": {
        "papermill": {
          "duration": 0.048865,
          "end_time": "2024-10-07T19:40:44.179075",
          "exception": false,
          "start_time": "2024-10-07T19:40:44.130210",
          "status": "completed"
        },
        "tags": [],
        "id": "974e562e"
      },
      "source": [
        "A classification report is a performance evaluation metric in machine learning. It is used to show the precision, recall, F1 Score, and support of your trained classification model.\n",
        "Importing classification_report from sklearn.metrics for getting precision, recall and f1_score"
      ]
    },
    {
      "cell_type": "code",
      "execution_count": null,
      "id": "5b6810a9",
      "metadata": {
        "execution": {
          "iopub.execute_input": "2024-10-07T19:40:44.278314Z",
          "iopub.status.busy": "2024-10-07T19:40:44.277895Z",
          "iopub.status.idle": "2024-10-07T19:40:44.398540Z",
          "shell.execute_reply": "2024-10-07T19:40:44.397150Z"
        },
        "papermill": {
          "duration": 0.17344,
          "end_time": "2024-10-07T19:40:44.401239",
          "exception": false,
          "start_time": "2024-10-07T19:40:44.227799",
          "status": "completed"
        },
        "tags": [],
        "id": "5b6810a9",
        "outputId": "3e6109c5-a56e-4773-e099-2b6c33edc11c"
      },
      "outputs": [
        {
          "name": "stdout",
          "output_type": "stream",
          "text": [
            "              precision    recall  f1-score   support\n",
            "\n",
            "           0       0.99      0.99      0.99     13678\n",
            "           1       0.99      0.99      0.99      6112\n",
            "           2       0.99      0.99      0.99     15727\n",
            "           3       0.99      0.99      0.99     14716\n",
            "           4       0.99      0.99      0.99      9828\n",
            "\n",
            "    accuracy                           0.99     60061\n",
            "   macro avg       0.99      0.99      0.99     60061\n",
            "weighted avg       0.99      0.99      0.99     60061\n",
            "\n"
          ]
        }
      ],
      "source": [
        "from sklearn.metrics import classification_report\n",
        "print(classification_report(y_test, predicted))"
      ]
    },
    {
      "cell_type": "markdown",
      "id": "f43c76f3",
      "metadata": {
        "papermill": {
          "duration": 0.049068,
          "end_time": "2024-10-07T19:40:44.499552",
          "exception": false,
          "start_time": "2024-10-07T19:40:44.450484",
          "status": "completed"
        },
        "tags": [],
        "id": "f43c76f3"
      },
      "source": [
        "# RandomForestClassifier:"
      ]
    },
    {
      "cell_type": "code",
      "execution_count": null,
      "id": "957f4136",
      "metadata": {
        "execution": {
          "iopub.execute_input": "2024-10-07T19:40:44.599303Z",
          "iopub.status.busy": "2024-10-07T19:40:44.598477Z",
          "iopub.status.idle": "2024-10-07T19:41:23.430965Z",
          "shell.execute_reply": "2024-10-07T19:41:23.429726Z"
        },
        "papermill": {
          "duration": 38.935048,
          "end_time": "2024-10-07T19:41:23.483643",
          "exception": false,
          "start_time": "2024-10-07T19:40:44.548595",
          "status": "completed"
        },
        "tags": [],
        "id": "957f4136",
        "outputId": "0e72bea8-5e45-41e6-e27a-f310148fe406"
      },
      "outputs": [
        {
          "name": "stdout",
          "output_type": "stream",
          "text": [
            "              precision    recall  f1-score   support\n",
            "\n",
            "           0       0.99      0.99      0.99     13656\n",
            "           1       0.99      1.00      1.00      6107\n",
            "           2       1.00      0.99      0.99     15756\n",
            "           3       0.99      1.00      0.99     14695\n",
            "           4       0.99      0.99      0.99      9847\n",
            "\n",
            "    accuracy                           0.99     60061\n",
            "   macro avg       0.99      0.99      0.99     60061\n",
            "weighted avg       0.99      0.99      0.99     60061\n",
            "\n"
          ]
        }
      ],
      "source": [
        "from sklearn.ensemble import RandomForestClassifier\n",
        "\n",
        "rf = RandomForestClassifier()\n",
        "rf.fit(x_train, y_train)\n",
        "pred_rf = rf.predict(x_test)\n",
        "cr_rf = classification_report(pred_rf, y_test)\n",
        "rf_acc=accuracy_score(pred_rf,y_test)\n",
        "print(cr_rf)"
      ]
    },
    {
      "cell_type": "markdown",
      "id": "75679529",
      "metadata": {
        "papermill": {
          "duration": 0.04823,
          "end_time": "2024-10-07T19:41:23.581067",
          "exception": false,
          "start_time": "2024-10-07T19:41:23.532837",
          "status": "completed"
        },
        "tags": [],
        "id": "75679529"
      },
      "source": [
        "DecisionTreeClasifier gives 99% accuracy."
      ]
    },
    {
      "cell_type": "markdown",
      "id": "cc633cc6",
      "metadata": {
        "papermill": {
          "duration": 0.048516,
          "end_time": "2024-10-07T19:41:23.678037",
          "exception": false,
          "start_time": "2024-10-07T19:41:23.629521",
          "status": "completed"
        },
        "tags": [],
        "id": "cc633cc6"
      },
      "source": [
        "# XGBClassifier:"
      ]
    },
    {
      "cell_type": "markdown",
      "id": "62eeb4c7",
      "metadata": {
        "papermill": {
          "duration": 0.04897,
          "end_time": "2024-10-07T19:41:23.775772",
          "exception": false,
          "start_time": "2024-10-07T19:41:23.726802",
          "status": "completed"
        },
        "tags": [],
        "id": "62eeb4c7"
      },
      "source": [
        " XGBoost: which stands for Extreme Gradient Boosting, is a scalable, distributed gradient-boosted decision tree (GBDT) machine learning library. It provides parallel tree boosting and is the leading machine learning library for regression, classification, and ranking problems."
      ]
    },
    {
      "cell_type": "code",
      "execution_count": null,
      "id": "dab28765",
      "metadata": {
        "execution": {
          "iopub.execute_input": "2024-10-07T19:41:23.875612Z",
          "iopub.status.busy": "2024-10-07T19:41:23.875194Z",
          "iopub.status.idle": "2024-10-07T19:41:24.064728Z",
          "shell.execute_reply": "2024-10-07T19:41:24.063597Z"
        },
        "papermill": {
          "duration": 0.242895,
          "end_time": "2024-10-07T19:41:24.067480",
          "exception": false,
          "start_time": "2024-10-07T19:41:23.824585",
          "status": "completed"
        },
        "tags": [],
        "id": "dab28765"
      },
      "outputs": [],
      "source": [
        "# Importing and performing XGBClassifier:\n",
        "from xgboost import XGBClassifier"
      ]
    },
    {
      "cell_type": "code",
      "execution_count": null,
      "id": "8bf2b780",
      "metadata": {
        "execution": {
          "iopub.execute_input": "2024-10-07T19:41:24.167413Z",
          "iopub.status.busy": "2024-10-07T19:41:24.166706Z",
          "iopub.status.idle": "2024-10-07T19:42:14.673170Z",
          "shell.execute_reply": "2024-10-07T19:42:14.672035Z"
        },
        "papermill": {
          "duration": 50.607907,
          "end_time": "2024-10-07T19:42:14.724582",
          "exception": false,
          "start_time": "2024-10-07T19:41:24.116675",
          "status": "completed"
        },
        "tags": [],
        "id": "8bf2b780",
        "outputId": "f800a50f-9e3f-4ac8-83dd-b6188a79cd35"
      },
      "outputs": [
        {
          "data": {
            "text/plain": [
              "0.9962205091490318"
            ]
          },
          "execution_count": 63,
          "metadata": {},
          "output_type": "execute_result"
        }
      ],
      "source": [
        "model = XGBClassifier()\n",
        "model.fit(x_train, y_train)\n",
        "y_pred = model.predict(x_test)\n",
        "predictions = [round(value) for value in y_pred]\n",
        "xgbr_acc = accuracy_score(y_test, predictions)\n",
        "xgbr_acc"
      ]
    },
    {
      "cell_type": "markdown",
      "id": "c6f5389f",
      "metadata": {
        "papermill": {
          "duration": 0.049777,
          "end_time": "2024-10-07T19:42:14.824863",
          "exception": false,
          "start_time": "2024-10-07T19:42:14.775086",
          "status": "completed"
        },
        "tags": [],
        "id": "c6f5389f"
      },
      "source": [
        "# Comparing Models:"
      ]
    },
    {
      "cell_type": "code",
      "execution_count": null,
      "id": "f9e7bf88",
      "metadata": {
        "execution": {
          "iopub.execute_input": "2024-10-07T19:42:14.926945Z",
          "iopub.status.busy": "2024-10-07T19:42:14.926560Z",
          "iopub.status.idle": "2024-10-07T19:42:14.939622Z",
          "shell.execute_reply": "2024-10-07T19:42:14.938345Z"
        },
        "papermill": {
          "duration": 0.066919,
          "end_time": "2024-10-07T19:42:14.941940",
          "exception": false,
          "start_time": "2024-10-07T19:42:14.875021",
          "status": "completed"
        },
        "tags": [],
        "id": "f9e7bf88",
        "outputId": "3822d8e4-fdcd-41ce-d81f-174e1dea0ef9"
      },
      "outputs": [
        {
          "data": {
            "text/html": [
              "<div>\n",
              "<style scoped>\n",
              "    .dataframe tbody tr th:only-of-type {\n",
              "        vertical-align: middle;\n",
              "    }\n",
              "\n",
              "    .dataframe tbody tr th {\n",
              "        vertical-align: top;\n",
              "    }\n",
              "\n",
              "    .dataframe thead th {\n",
              "        text-align: right;\n",
              "    }\n",
              "</style>\n",
              "<table border=\"1\" class=\"dataframe\">\n",
              "  <thead>\n",
              "    <tr style=\"text-align: right;\">\n",
              "      <th></th>\n",
              "      <th>model</th>\n",
              "      <th>Accuracy</th>\n",
              "    </tr>\n",
              "  </thead>\n",
              "  <tbody>\n",
              "    <tr>\n",
              "      <th>0</th>\n",
              "      <td>LogisticRegression</td>\n",
              "      <td>0.998801</td>\n",
              "    </tr>\n",
              "    <tr>\n",
              "      <th>1</th>\n",
              "      <td>DecisionTreeClassifier</td>\n",
              "      <td>0.991226</td>\n",
              "    </tr>\n",
              "    <tr>\n",
              "      <th>2</th>\n",
              "      <td>RandomForestClassifier</td>\n",
              "      <td>0.994006</td>\n",
              "    </tr>\n",
              "    <tr>\n",
              "      <th>3</th>\n",
              "      <td>XGBClassifier</td>\n",
              "      <td>0.996221</td>\n",
              "    </tr>\n",
              "  </tbody>\n",
              "</table>\n",
              "</div>"
            ],
            "text/plain": [
              "                    model  Accuracy\n",
              "0      LogisticRegression  0.998801\n",
              "1  DecisionTreeClassifier  0.991226\n",
              "2  RandomForestClassifier  0.994006\n",
              "3           XGBClassifier  0.996221"
            ]
          },
          "execution_count": 64,
          "metadata": {},
          "output_type": "execute_result"
        }
      ],
      "source": [
        "compare = {'model':['LogisticRegression','DecisionTreeClassifier','RandomForestClassifier','XGBClassifier'],\n",
        "           'Accuracy':[lr_acc,dt_acc,rf_acc,xgbr_acc]}\n",
        "compare_df = pd.DataFrame(compare)\n",
        "compare_df"
      ]
    },
    {
      "cell_type": "code",
      "execution_count": null,
      "id": "3e1cb20b",
      "metadata": {
        "execution": {
          "iopub.execute_input": "2024-10-07T19:42:15.042412Z",
          "iopub.status.busy": "2024-10-07T19:42:15.041605Z",
          "iopub.status.idle": "2024-10-07T19:42:15.226991Z",
          "shell.execute_reply": "2024-10-07T19:42:15.225975Z"
        },
        "papermill": {
          "duration": 0.23835,
          "end_time": "2024-10-07T19:42:15.229622",
          "exception": false,
          "start_time": "2024-10-07T19:42:14.991272",
          "status": "completed"
        },
        "tags": [],
        "id": "3e1cb20b",
        "outputId": "e1db727c-cad5-4662-de09-10ee762e96a9"
      },
      "outputs": [
        {
          "data": {
            "image/png": "[encoded data removed]",
            "text/plain": [
              "<Figure size 1000x500 with 1 Axes>"
            ]
          },
          "metadata": {},
          "output_type": "display_data"
        }
      ],
      "source": [
        "plt.figure(figsize=(10,5))\n",
        "sns.barplot(x='model',y='Accuracy',data=compare_df)\n",
        "plt.show()"
      ]
    },
    {
      "cell_type": "markdown",
      "id": "ae18e352",
      "metadata": {
        "papermill": {
          "duration": 0.049873,
          "end_time": "2024-10-07T19:42:15.329884",
          "exception": false,
          "start_time": "2024-10-07T19:42:15.280011",
          "status": "completed"
        },
        "tags": [],
        "id": "ae18e352"
      },
      "source": [
        "# Inferences:"
      ]
    },
    {
      "cell_type": "markdown",
      "id": "0be53386",
      "metadata": {
        "papermill": {
          "duration": 0.049789,
          "end_time": "2024-10-07T19:42:15.429077",
          "exception": false,
          "start_time": "2024-10-07T19:42:15.379288",
          "status": "completed"
        },
        "tags": [],
        "id": "0be53386"
      },
      "source": [
        "Now we can easily compare models and choose best one."
      ]
    },
    {
      "cell_type": "code",
      "execution_count": null,
      "id": "c16d73dc",
      "metadata": {
        "papermill": {
          "duration": 0.048786,
          "end_time": "2024-10-07T19:42:15.527478",
          "exception": false,
          "start_time": "2024-10-07T19:42:15.478692",
          "status": "completed"
        },
        "tags": [],
        "id": "c16d73dc"
      },
      "outputs": [],
      "source": []
    }
  ],
  "metadata": {
    "kaggle": {
      "accelerator": "none",
      "dataSources": [
        {
          "datasetId": 3886183,
          "sourceId": 6749811,
          "sourceType": "datasetVersion"
        }
      ],
      "dockerImageVersionId": 30558,
      "isGpuEnabled": false,
      "isInternetEnabled": true,
      "language": "python",
      "sourceType": "notebook"
    },
    "kernelspec": {
      "display_name": "Python 3",
      "language": "python",
      "name": "python3"
    },
    "language_info": {
      "codemirror_mode": {
        "name": "ipython",
        "version": 3
      },
      "file_extension": ".py",
      "mimetype": "text/x-python",
      "name": "python",
      "nbconvert_exporter": "python",
      "pygments_lexer": "ipython3",
      "version": "3.10.12"
    },
    "papermill": {
      "default_parameters": {},
      "duration": 152.950343,
      "end_time": "2024-10-07T19:42:16.300998",
      "environment_variables": {},
      "exception": null,
      "input_path": "__notebook__.ipynb",
      "output_path": "__notebook__.ipynb",
      "parameters": {},
      "start_time": "2024-10-07T19:39:43.350655",
      "version": "2.4.0"
    },
    "colab": {
      "provenance": [],
      "include_colab_link": true
    }
  },
  "nbformat": 4,
  "nbformat_minor": 5
}